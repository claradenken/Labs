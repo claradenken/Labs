{
 "cells": [
  {
   "cell_type": "markdown",
   "id": "ce5de2fa",
   "metadata": {},
   "source": [
    "\n",
    "\n",
    "# numpy exercises\n",
    "\n",
    "This is a collection of exercises that have been collected in the numpy mailing list, on stack overflow\n",
    "and in the numpy documentation. The goal of this collection is to offer a quick reference for both old\n",
    "and new users but also to provide a set of exercises for those who teach.\n",
    "\n",
    "\n",
    "If you find an error or think you've a better way to solve some of them, feel\n",
    "free to open an issue at <https://github.com/rougier/numpy-100>.\n",
    "File automatically generated. See the documentation to update questions/answers/hints programmatically.\n",
    "\n",
    "#### 1. Import the numpy package under the name `np` (★☆☆)\n",
    "`hint: import … as`\n",
    "\n",
    "#### 2. Create a null vector of size 10 (★☆☆)\n",
    "`hint: np.zeros`\n",
    "\n",
    "#### 3. Create a null vector of size 10 but the fifth value which is 1 (★☆☆)\n",
    "`hint: array[4]`\n",
    "\n",
    "#### 4. Create a vector with values ranging from 10 to 49 (★☆☆)\n",
    "`hint: arange`\n",
    "\n",
    "#### 5. Create a 3x3 matrix with values ranging from 0 to 8 (★☆☆)\n",
    "`hint: reshape`\n",
    "\n",
    "#### 6. Find indices of non-zero elements from [1,2,0,0,4,0] (★☆☆)\n",
    "`hint: np.nonzero`\n",
    "\n",
    "#### 7. Create a 3x3 identity matrix (★☆☆)\n",
    "`hint: np.eye`\n",
    "\n",
    "#### 8. Create a 3x3x3 array with random values (★☆☆)\n",
    "`hint: np.random.random`\n",
    "\n",
    "#### 9. Create a 10x10 array with random values and find the minimum and maximum values (★☆☆)\n",
    "`hint: min, max`\n",
    "\n",
    "#### 10. Create a random vector of size 30 and find the mean value (★☆☆)\n",
    "`hint: mean`\n",
    "\n",
    "#### 11. Create a 5x5 matrix with values 1,2,3,4 just below the diagonal (★☆☆)\n",
    "`hint: np.diag`\n",
    "\n",
    "#### 12. Normalize a 5x5 random matrix (★☆☆)\n",
    "`hint: (x -mean)/std`\n",
    "\n",
    "#### 13. How to find common values between two arrays? (★☆☆)\n",
    "`hint: np.intersect1d`\n",
    "\n",
    "#### 14. Create a random vector of size 10 and sort it (★★☆)\n",
    "`hint: sort`\n",
    "\n",
    "#### 15. Create random vector of size 10 and replace the maximum value by 0 (★★☆)\n",
    "`hint: argmax`\n",
    "\n",
    "#### 16. Subtract the mean of each row of a matrix (★★☆)\n",
    "`hint: mean(axis=,keepdims=)`\n",
    "\n",
    "#### 17. How to get the n largest values of an array (★★★)\n",
    "`Z = np.arange(10000)\n",
    "np.random.shuffle(Z)\n",
    "n = 5\n",
    "hint: np.argsort | np.argpartition`\n",
    "\n",
    "#### 18. Create a random 5*3 matrix and replace items that are larger than 4 by their squares ( Example:  6 --> 36) \n",
    "`hint: np.where`\n",
    "\n"
   ]
  },
  {
   "cell_type": "code",
   "execution_count": 199,
   "id": "1cfa5de1",
   "metadata": {},
   "outputs": [],
   "source": [
    "# 1\n",
    "import numpy as np"
   ]
  },
  {
   "cell_type": "code",
   "execution_count": 200,
   "id": "db6ccc24",
   "metadata": {},
   "outputs": [
    {
     "data": {
      "text/plain": [
       "array([0., 0., 0., 0., 0., 0., 0., 0., 0., 0.])"
      ]
     },
     "execution_count": 200,
     "metadata": {},
     "output_type": "execute_result"
    }
   ],
   "source": [
    "# 2 \n",
    "x = np.zeros(10)\n",
    "x"
   ]
  },
  {
   "cell_type": "code",
   "execution_count": 201,
   "id": "bd26e873",
   "metadata": {},
   "outputs": [],
   "source": [
    "# 3 \n",
    "x[4]=1"
   ]
  },
  {
   "cell_type": "code",
   "execution_count": 202,
   "id": "2d7d63ae",
   "metadata": {},
   "outputs": [
    {
     "data": {
      "text/plain": [
       "array([10, 11, 12, 13, 14, 15, 16, 17, 18, 19, 20, 21, 22, 23, 24, 25, 26,\n",
       "       27, 28, 29, 30, 31, 32, 33, 34, 35, 36, 37, 38, 39, 40, 41, 42, 43,\n",
       "       44, 45, 46, 47, 48, 49])"
      ]
     },
     "execution_count": 202,
     "metadata": {},
     "output_type": "execute_result"
    }
   ],
   "source": [
    "# 4\n",
    "np.arange(10,50)"
   ]
  },
  {
   "cell_type": "code",
   "execution_count": 203,
   "id": "6b5fb5f3",
   "metadata": {},
   "outputs": [
    {
     "data": {
      "text/plain": [
       "array([[0, 1, 2],\n",
       "       [3, 4, 5],\n",
       "       [6, 7, 8]])"
      ]
     },
     "execution_count": 203,
     "metadata": {},
     "output_type": "execute_result"
    }
   ],
   "source": [
    "# 5\n",
    "np.array(np.arange(0,9)).reshape(3,3)"
   ]
  },
  {
   "cell_type": "code",
   "execution_count": 204,
   "id": "0d742558",
   "metadata": {},
   "outputs": [
    {
     "data": {
      "text/plain": [
       "(array([0, 1, 4]),)"
      ]
     },
     "execution_count": 204,
     "metadata": {},
     "output_type": "execute_result"
    }
   ],
   "source": [
    "# 6\n",
    "np.nonzero([1,2,0,0,4,0])"
   ]
  },
  {
   "cell_type": "code",
   "execution_count": 205,
   "id": "e9801c7d",
   "metadata": {},
   "outputs": [
    {
     "data": {
      "text/plain": [
       "array([[1., 0., 0.],\n",
       "       [0., 1., 0.],\n",
       "       [0., 0., 1.]])"
      ]
     },
     "execution_count": 205,
     "metadata": {},
     "output_type": "execute_result"
    }
   ],
   "source": [
    "#7\n",
    "np.eye(3,3)"
   ]
  },
  {
   "cell_type": "code",
   "execution_count": 206,
   "id": "ae9e66bf",
   "metadata": {},
   "outputs": [
    {
     "data": {
      "text/plain": [
       "array([[[0.61289097, 0.49092433, 0.16071274],\n",
       "        [0.04375124, 0.99526962, 0.78697326],\n",
       "        [0.8670613 , 0.23709337, 0.02801829]],\n",
       "\n",
       "       [[0.83569551, 0.2184327 , 0.38562257],\n",
       "        [0.22136629, 0.8920434 , 0.32557751],\n",
       "        [0.73145588, 0.0140616 , 0.92387642]],\n",
       "\n",
       "       [[0.63307838, 0.33323608, 0.40562199],\n",
       "        [0.6350171 , 0.58898132, 0.19073941],\n",
       "        [0.29741136, 0.24758938, 0.93414543]]])"
      ]
     },
     "execution_count": 206,
     "metadata": {},
     "output_type": "execute_result"
    }
   ],
   "source": [
    "# 8\n",
    "np.random.random((3,3,3))"
   ]
  },
  {
   "cell_type": "code",
   "execution_count": 207,
   "id": "e4b2a539",
   "metadata": {},
   "outputs": [
    {
     "name": "stdout",
     "output_type": "stream",
     "text": [
      "min: 0.0060073120486158205\n",
      "max: 0.9834944417834256\n"
     ]
    }
   ],
   "source": [
    "# 9\n",
    "x = np.random.random((10,10))\n",
    "print(\"min:\",np.min(x))\n",
    "print(\"max:\",np.max(x))"
   ]
  },
  {
   "cell_type": "code",
   "execution_count": 208,
   "id": "e782647b",
   "metadata": {},
   "outputs": [
    {
     "name": "stdout",
     "output_type": "stream",
     "text": [
      "mean: 0.42053919095057196\n"
     ]
    }
   ],
   "source": [
    "# 10\n",
    "x = np.random.random(30)\n",
    "print(\"mean:\",np.mean(x))"
   ]
  },
  {
   "cell_type": "code",
   "execution_count": 209,
   "id": "c832910f",
   "metadata": {},
   "outputs": [
    {
     "name": "stdout",
     "output_type": "stream",
     "text": [
      "[[0 0 0 0 0]\n",
      " [1 0 0 0 0]\n",
      " [0 2 0 0 0]\n",
      " [0 0 3 0 0]\n",
      " [0 0 0 4 0]]\n"
     ]
    }
   ],
   "source": [
    "# 11\n",
    "j = np.diag(np.arange(1,5),k=-1)\n",
    "print(j)"
   ]
  },
  {
   "cell_type": "code",
   "execution_count": 210,
   "id": "4f1f4519",
   "metadata": {},
   "outputs": [
    {
     "name": "stdout",
     "output_type": "stream",
     "text": [
      "--------------- INITIAL ARRAY ----------------\n",
      "[[0.14968234 0.80860491 0.54474574 0.73306568 0.11031282]\n",
      " [0.97383669 0.17653447 0.86713917 0.29818728 0.04344424]\n",
      " [0.58905974 0.14874107 0.03458395 0.38978111 0.67266724]\n",
      " [0.64872312 0.40105938 0.92546135 0.34552492 0.4508272 ]\n",
      " [0.12025263 0.65991159 0.10579506 0.03383374 0.9702625 ]]\n",
      "mean of array: 0.45\n",
      "standard deviation of array: 0.31\n",
      "\n",
      "--------------- NORMALIZED ARRAY ----------------\n",
      "[[-0.95037511  1.14823528  0.30786705  0.90764948 -1.07576358]\n",
      " [ 1.67448396 -0.86485346  1.33466177 -0.47739997 -1.28873412]\n",
      " [ 0.44900323 -0.953373   -1.31695338 -0.18568166  0.71528577]\n",
      " [ 0.63902585 -0.14976138  1.52041276 -0.32663375  0.00874474]\n",
      " [-1.04410617  0.67466014 -1.09015224 -1.31934271  1.66310049]]\n",
      "\n",
      "mean of normalized array: 0.0\n",
      "standard deviation of normalized array: 1.0\n"
     ]
    }
   ],
   "source": [
    "# 12\n",
    "print(\"--------------- INITIAL ARRAY ----------------\")\n",
    "x = np.random.random((5,5))\n",
    "print(x)\n",
    "print(\"mean of array:\",round(np.mean(x),2))\n",
    "print(\"standard deviation of array:\",round(np.std(x),2))\n",
    "\n",
    "print(\"\")\n",
    "print(\"--------------- NORMALIZED ARRAY ----------------\")\n",
    "\n",
    "x_norm = (x-np.mean(x))/np.std(x)\n",
    "print(x_norm)\n",
    "print(\"\")\n",
    "print(\"mean of normalized array:\",round(np.mean(x_norm),2))\n",
    "print(\"standard deviation of normalized array:\",round(np.std(x_norm),2))\n"
   ]
  },
  {
   "cell_type": "code",
   "execution_count": 211,
   "id": "aadaa031",
   "metadata": {},
   "outputs": [
    {
     "name": "stdout",
     "output_type": "stream",
     "text": [
      "x: \n",
      " [0 1 2 3 4]\n",
      "\n",
      "y: \n",
      " [3 4 5 6]\n",
      "\n",
      "---> Common values between x and y are [3 4] .\n"
     ]
    }
   ],
   "source": [
    "# 13\n",
    "x = np.array(np.arange(0,5))\n",
    "y = np.array(np.arange(3,7))\n",
    "print(\"x: \\n\",x)\n",
    "print(\"\")\n",
    "print(\"y: \\n\",y)\n",
    "z = np.intersect1d(x,y)\n",
    "print(\"\")\n",
    "print(\"---> Common values between x and y are\",z,\".\")"
   ]
  },
  {
   "cell_type": "code",
   "execution_count": 212,
   "id": "b6077fad",
   "metadata": {},
   "outputs": [
    {
     "data": {
      "text/plain": [
       "array([0.00118082, 0.14079292, 0.15901888, 0.17645808, 0.21180022,\n",
       "       0.3723883 , 0.58395144, 0.79352117, 0.94688928, 0.94880005])"
      ]
     },
     "execution_count": 212,
     "metadata": {},
     "output_type": "execute_result"
    }
   ],
   "source": [
    "# 14\n",
    "x = np.random.random(10)\n",
    "x\n",
    "np.sort(x)"
   ]
  },
  {
   "cell_type": "code",
   "execution_count": 213,
   "id": "e5284a8c",
   "metadata": {},
   "outputs": [
    {
     "name": "stdout",
     "output_type": "stream",
     "text": [
      "x: \n",
      " [0.20898252 0.81445782 0.26923248 0.98948573 0.16132446 0.10795827\n",
      " 0.33403045 0.86770813 0.62517345 0.80210882]\n",
      "changed x: \n",
      " [0.20898252 0.81445782 0.26923248 0.         0.16132446 0.10795827\n",
      " 0.33403045 0.86770813 0.62517345 0.80210882]\n"
     ]
    }
   ],
   "source": [
    "# 15\n",
    "x = np.random.random(10)\n",
    "print(\"x: \\n\",x)\n",
    "x[np.argmax(x)] = 0\n",
    "print(\"changed x: \\n\",x)"
   ]
  },
  {
   "cell_type": "code",
   "execution_count": 214,
   "id": "e2f7f53e",
   "metadata": {},
   "outputs": [
    {
     "name": "stdout",
     "output_type": "stream",
     "text": [
      "initial matrix: \n",
      " [[0 1 2]\n",
      " [3 4 5]\n",
      " [6 7 8]] \n",
      "\n",
      "matrix with mean of each row subtracted: \n",
      " [[-1.  0.  1.]\n",
      " [-1.  0.  1.]\n",
      " [-1.  0.  1.]]\n",
      "mean of each row: [3. 4. 5.]\n"
     ]
    }
   ],
   "source": [
    "# 16\n",
    "x = np.array(np.arange(0,9)).reshape(3,3)\n",
    "print(\"initial matrix: \\n\", x,\"\\n\")\n",
    "y = x - np.mean(x,axis=1,keepdims=True)\n",
    "print(\"matrix with mean of each row subtracted: \\n\", y)\n",
    "print(\"mean of each row:\", np.mean(x,axis=0))\n"
   ]
  },
  {
   "cell_type": "code",
   "execution_count": 215,
   "id": "f597a4e0",
   "metadata": {},
   "outputs": [
    {
     "name": "stdout",
     "output_type": "stream",
     "text": [
      "shuffled array: [6805 7052  606 ... 3245 6774 1405]\n",
      "[9995 9996 9997 9998 9999]\n"
     ]
    }
   ],
   "source": [
    "# 17\n",
    "Z = np.arange(10000)\n",
    "n = 5\n",
    "np.random.shuffle(Z)\n",
    "print(\"shuffled array:\",Z)\n",
    "print(np.sort(Z)[-5:])"
   ]
  },
  {
   "cell_type": "code",
   "execution_count": 216,
   "id": "be95786a",
   "metadata": {},
   "outputs": [
    {
     "name": "stdout",
     "output_type": "stream",
     "text": [
      "initial array: \n",
      " [[9 3 3]\n",
      " [6 7 6]\n",
      " [7 2 3]\n",
      " [8 5 5]\n",
      " [6 6 7]]\n",
      "\n",
      "array with items > 4 replaced by their squares: \n",
      " [[81  3  3]\n",
      " [36 49 36]\n",
      " [49  2  3]\n",
      " [64 25 25]\n",
      " [36 36 49]]\n"
     ]
    }
   ],
   "source": [
    "# 18\n",
    "x = np.random.randint(10,size=(5,3))\n",
    "print(\"initial array: \\n\",x)\n",
    "print(\"\")\n",
    "y = np.where(x<=4,x,x**2)\n",
    "print(\"array with items > 4 replaced by their squares: \\n\",y)"
   ]
  }
 ],
 "metadata": {
  "kernelspec": {
   "display_name": "Python 3 (ipykernel)",
   "language": "python",
   "name": "python3"
  },
  "language_info": {
   "codemirror_mode": {
    "name": "ipython",
    "version": 3
   },
   "file_extension": ".py",
   "mimetype": "text/x-python",
   "name": "python",
   "nbconvert_exporter": "python",
   "pygments_lexer": "ipython3",
   "version": "3.9.7"
  }
 },
 "nbformat": 4,
 "nbformat_minor": 5
}
