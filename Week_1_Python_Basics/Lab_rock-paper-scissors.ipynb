{
 "cells": [
  {
   "cell_type": "markdown",
   "metadata": {},
   "source": [
    "<img src=\"https://bit.ly/2VnXWr2\" width=\"100\" align=\"left\">"
   ]
  },
  {
   "cell_type": "markdown",
   "metadata": {},
   "source": [
    "# Rock, Paper & Scissors\n",
    "\n",
    "Let's play the famous game against our computer. You can check the rules [here](https://en.wikipedia.org/wiki/Rock%E2%80%93paper%E2%80%93scissors). \n",
    "\n",
    "## Task\n",
    "Create a program that imitates the playability of the well known game of rock, paper, scissors. Follow the guidelines provided.\n",
    "\n",
    "## Tools\n",
    "1. Loop: **for/while**\n",
    "2. Functions: **input(), print()...**\n",
    "3. Conditional statements: **if, elif, else**\n",
    "4. Definition of functions. Modular programming\n",
    "5. Import modules\n",
    "\n",
    "- **To solve this challenge, the use of functions is recommended.**\n",
    "- <b>Hint: You dont need necessarily to follow the instructions in this notebook to solve the tasks. simply just get the job done effeciently ;) \n",
    "\n",
    "#### 1. Import the choice function of the random module."
   ]
  },
  {
   "cell_type": "code",
   "execution_count": 354,
   "metadata": {},
   "outputs": [],
   "source": [
    "from random import choice"
   ]
  },
  {
   "cell_type": "markdown",
   "metadata": {},
   "source": [
    "#### 2. Create a list that includes the 3 possible gesture options of the game: 'rock', 'paper' or 'scissors'. Store the list in a variable called `gestures`."
   ]
  },
  {
   "cell_type": "code",
   "execution_count": 355,
   "metadata": {},
   "outputs": [],
   "source": [
    "gestures = [\"rock\", \"paper\", \"scissors\"]"
   ]
  },
  {
   "cell_type": "markdown",
   "metadata": {},
   "source": [
    "#### 3. Create a variable called `n_rounds` to store the maximum number of rounds to play in a game. \n",
    "Remember that the number of rounds must be odd: 1, 3, 5, ..."
   ]
  },
  {
   "cell_type": "code",
   "execution_count": 356,
   "metadata": {},
   "outputs": [],
   "source": [
    "N_ROUNDS = 7"
   ]
  },
  {
   "cell_type": "markdown",
   "metadata": {},
   "source": [
    "#### 4. Create a variable called `rounds_to_win` to store the number of rounds that a player must win to win the game.\n",
    "**Hint**: the value stored in `rounds_to_win` depends on the value of `n_rounds`. "
   ]
  },
  {
   "cell_type": "code",
   "execution_count": 357,
   "metadata": {},
   "outputs": [],
   "source": [
    "rounds_to_win = round(N_ROUNDS/2)"
   ]
  },
  {
   "cell_type": "markdown",
   "metadata": {},
   "source": [
    "#### 5. Create two variables to store the number of rounds that the computer and the player have won. Call these variables `cpu_score` and `player_score`."
   ]
  },
  {
   "cell_type": "code",
   "execution_count": 358,
   "metadata": {},
   "outputs": [],
   "source": [
    "cpu_score = 0\n",
    "player_score = 0"
   ]
  },
  {
   "cell_type": "markdown",
   "metadata": {},
   "source": [
    "#### 6. Define a function that randomly returns one of the 3 gesture options.\n",
    "You will use this function to simulate the gesture choice of the computer. "
   ]
  },
  {
   "cell_type": "code",
   "execution_count": 359,
   "metadata": {},
   "outputs": [],
   "source": [
    "def rps():\n",
    "    return choice(gestures)"
   ]
  },
  {
   "cell_type": "markdown",
   "metadata": {},
   "source": [
    "#### 7. Define a function that asks the player which is the gesture he or she wants to show: 'rock', 'paper' or 'scissors'.\n",
    "The player should only be allowed to choose one of the 3 gesture options. If the player's choice is not rock, paper or scissors, keep asking until it is."
   ]
  },
  {
   "cell_type": "code",
   "execution_count": 374,
   "metadata": {},
   "outputs": [],
   "source": [
    "def play_rps():\n",
    "    x = input(\"rock (r) / paper (p) / scissors (s): \")\n",
    "    \n",
    "    while x not in [\"r\",\"p\",\"s\"]:\n",
    "        x = input(\"rock (r) / paper (p) / scissors (s)\")\n",
    "    if x==\"r\": chosen_gesture = \"rock\"\n",
    "    elif x==\"p\": chosen_gesture = \"paper\"\n",
    "    elif x==\"s\": chosen_gesture = \"scissors\"\n",
    "\n",
    "    return chosen_gesture"
   ]
  },
  {
   "cell_type": "markdown",
   "metadata": {},
   "source": [
    "#### 8. Define a function that checks who won a round. \n",
    "The function should return 0 if there is a tie, 1 if the computer wins and 2 if the player wins."
   ]
  },
  {
   "cell_type": "code",
   "execution_count": 361,
   "metadata": {},
   "outputs": [],
   "source": [
    "def who_won(g_cpu,g_player):\n",
    "    if g_cpu==g_player:\n",
    "        winner = 0\n",
    "    else:\n",
    "        lst = [g_cpu,g_player]\n",
    "        if \"rock\" in lst:\n",
    "            if \"paper\" in lst:\n",
    "                winner = lst.index(\"paper\")+1\n",
    "            elif \"scissors\" in lst:\n",
    "                winner = lst.index(\"rock\")+1\n",
    "        elif \"paper\" in lst:\n",
    "            winner = lst.index(\"scissors\")+1\n",
    "    \n",
    "    return winner"
   ]
  },
  {
   "cell_type": "markdown",
   "metadata": {},
   "source": [
    "#### 9. Define a function that prints the choice of the computer, the choice of the player and a message that announces who won the current round. \n",
    "You should also use this function to update the variables that count the number of rounds that the computer and the player have won. The score of the winner increases by one point. If there is a tie, the score does not increase."
   ]
  },
  {
   "cell_type": "code",
   "execution_count": 362,
   "metadata": {},
   "outputs": [],
   "source": [
    "def game(g_cpu,g_player):\n",
    "    global cpu_score\n",
    "    global player_score\n",
    "    print(\"Computer:\",g_cpu,\"Player:\",g_player)\n",
    "    winner = who_won(g_cpu,g_player)\n",
    "    if winner==1: \n",
    "        print(\"The computer wins!\")\n",
    "        cpu_score += 1\n",
    "    elif winner==2: \n",
    "        print(\"You win!\")\n",
    "        player_score += 1\n",
    "    elif winner==0: print(\"It's a tie!\")"
   ]
  },
  {
   "cell_type": "markdown",
   "metadata": {},
   "source": [
    "#### 10. Now it's time to code the execution of the game using the functions and variables you defined above. \n",
    "\n",
    "First, create a loop structure that repeats while no player reaches the minimum score necessary to win and the number of rounds is less than the maximum number of rounds to play in a game.  \n",
    "\n",
    "Inside the loop, use the functions and variables above to create the execution of a round: ask for the player's choice, generate the random choice of the computer, show the round results, update the scores, etc. "
   ]
  },
  {
   "cell_type": "code",
   "execution_count": 367,
   "metadata": {
    "scrolled": false
   },
   "outputs": [
    {
     "name": "stdout",
     "output_type": "stream",
     "text": [
      "-----------------------------------\n",
      "rock (r) / paper (p) / scissors (s): s\n",
      "Computer: rock Player: scissors\n",
      "The computer wins!\n",
      "-----------------------------------\n",
      "rock (r) / paper (p) / scissors (s): s\n",
      "Computer: paper Player: scissors\n",
      "You win!\n",
      "-----------------------------------\n",
      "rock (r) / paper (p) / scissors (s): s\n",
      "Computer: rock Player: scissors\n",
      "The computer wins!\n",
      "-----------------------------------\n",
      "rock (r) / paper (p) / scissors (s): s\n",
      "Computer: rock Player: scissors\n",
      "The computer wins!\n",
      "-----------------------------------\n",
      "rock (r) / paper (p) / scissors (s): s\n",
      "Computer: scissors Player: scissors\n",
      "It's a tie!\n",
      "-----------------------------------\n",
      "rock (r) / paper (p) / scissors (s): s\n",
      "Computer: rock Player: scissors\n",
      "The computer wins!\n",
      "-----------------------------------\n",
      "END OF GAME\n"
     ]
    }
   ],
   "source": [
    "cpu_score = 0\n",
    "player_score = 0\n",
    "while (max([cpu_score,player_score])<rounds_to_win):\n",
    "    print(\"-----------------------------------\")\n",
    "    g_cpu = rps()\n",
    "    g_player = play_rps()\n",
    "    game(g_cpu,g_player)\n",
    "print(\"-----------------------------------\")\n",
    "print(\"END OF GAME\")"
   ]
  },
  {
   "cell_type": "markdown",
   "metadata": {},
   "source": [
    "#### 11. Print the winner of the game based on who won more rounds.\n",
    "Remember that the game might be tied. "
   ]
  },
  {
   "cell_type": "code",
   "execution_count": 368,
   "metadata": {},
   "outputs": [
    {
     "name": "stdout",
     "output_type": "stream",
     "text": [
      "-----------------------------------\n",
      "!!! THE COMPUTER WINS THE MATCH !!!\n",
      "-----------------------------------\n"
     ]
    }
   ],
   "source": [
    "if (max([cpu_score,player_score])==rounds_to_win):\n",
    "    if cpu_score==rounds_to_win: \n",
    "        print(\"-----------------------------------\")\n",
    "        print(\"!!! THE COMPUTER WINS THE MATCH !!!\")\n",
    "        print(\"-----------------------------------\")\n",
    "    elif player_score==rounds_to_win: \n",
    "        print(\"-----------------------------------\")\n",
    "        print(\"!!! YOU WIN THE MATCH !!!\")\n",
    "        print(\"-----------------------------------\")"
   ]
  },
  {
   "cell_type": "markdown",
   "metadata": {},
   "source": [
    "# (Optional) Rock, Paper, Scissors, Lizard & Spock\n",
    "![](images/rpsls.jpg)\n",
    "\n",
    "In this challenge, you need to improve the previous game by adding two new options. To know more about the rules of the improved version of rock, paper, scissors, check this [link](http://www.samkass.com/theories/RPSSL.html). \n",
    "\n",
    "In addition, you will also need to improve how the game interacts with the player: the number of rounds to play, which must be an odd number, will be requested to the user until a valid number is entered. Define a new function to make that request.\n",
    "\n",
    "**Hint**: Try to reuse the code that you already coded in the previous challenge. If your code is efficient, this bonus will only consist of simple modifications to the original game."
   ]
  },
  {
   "cell_type": "code",
   "execution_count": 460,
   "metadata": {},
   "outputs": [],
   "source": [
    "gestures = [\"rock\", \"paper\", \"scissors\",\"spock\",\"lizard\"]"
   ]
  },
  {
   "cell_type": "code",
   "execution_count": 461,
   "metadata": {},
   "outputs": [],
   "source": [
    "def request_n_rounds():\n",
    "    N_ROUNDS = 0\n",
    "    flag = 0\n",
    "    while flag==0:\n",
    "        N_ROUNDS = input(\"Please enter number of rounds you want to play. It needs to be an odd number: \")\n",
    "        try:\n",
    "            i = int(N_ROUNDS)\n",
    "        except ValueError:\n",
    "            print(\"------------------------\")\n",
    "            print(\"Please enter an integer!\")\n",
    "            print(\"------------------------\")\n",
    "        else: \n",
    "            if int(N_ROUNDS)%2==1: flag=1\n",
    "    return N_ROUNDS"
   ]
  },
  {
   "cell_type": "code",
   "execution_count": 462,
   "metadata": {},
   "outputs": [],
   "source": [
    "def rpssl():\n",
    "    return choice(gestures)"
   ]
  },
  {
   "cell_type": "code",
   "execution_count": 463,
   "metadata": {},
   "outputs": [],
   "source": [
    "def play_rpssl():\n",
    "    x = input(\"rock(r) - paper(p) - scissors(sc) - spock(sp) - lizard(l): \")\n",
    "    \n",
    "    while x not in [\"r\",\"p\",\"sc\",\"sp\",\"l\"]:\n",
    "        x = input(\"rock(r) - paper(p) - scissors(sc) - spock(sp) - lizard(l): \")\n",
    "    if x==\"r\": chosen_gesture = \"rock\"\n",
    "    elif x==\"p\": chosen_gesture = \"paper\"\n",
    "    elif x==\"sc\": chosen_gesture = \"scissors\"\n",
    "    elif x==\"sp\": chosen_gesture = \"spock\"\n",
    "    elif x==\"l\": chosen_gesture = \"lizard\"\n",
    "        \n",
    "    return chosen_gesture"
   ]
  },
  {
   "cell_type": "markdown",
   "metadata": {},
   "source": [
    "#### Define a function that checks who won a round. \n",
    "The function should return 0 if there is a tie, 1 if the computer wins and 2 if the player wins."
   ]
  },
  {
   "cell_type": "code",
   "execution_count": 464,
   "metadata": {},
   "outputs": [],
   "source": [
    "def who_won(g_cpu,g_player):\n",
    "    if g_cpu==g_player:\n",
    "        winner = 0\n",
    "    else:\n",
    "        di1 = {\"rock\":1,\"paper\":2,\"scissors\":3,\"spock\":4,\"lizard\":5}\n",
    "        di2 = {1:\"rock\",2:\"paper\",3:\"scissors\",4:\"spock\",5:\"lizard\"}\n",
    "\n",
    "        win_lose_matrix = [[0,2,1,4,1],[2,0,3,2,5],[1,3,0,4,3],[4,2,4,0,5],[1,5,3,5,0]]\n",
    "        t = di2[win_lose_matrix[di1[g_cpu]-1][di1[g_player]-1]]\n",
    "        lst = [g_cpu,g_player]\n",
    "        winner = lst.index(t)+1\n",
    "        \n",
    "    return winner"
   ]
  },
  {
   "cell_type": "code",
   "execution_count": 465,
   "metadata": {},
   "outputs": [],
   "source": [
    "def game(g_cpu,g_player):\n",
    "    global cpu_score\n",
    "    global player_score\n",
    "    print(\"Computer:\",g_cpu,\"Player:\",g_player)\n",
    "    winner = who_won(g_cpu,g_player)\n",
    "    if winner==1: \n",
    "        print(\"The computer wins!\")\n",
    "        cpu_score += 1\n",
    "    elif winner==2: \n",
    "        print(\"You win!\")\n",
    "        player_score += 1\n",
    "    elif winner==0: print(\"It's a tie!\")"
   ]
  },
  {
   "cell_type": "code",
   "execution_count": 476,
   "metadata": {},
   "outputs": [
    {
     "name": "stdout",
     "output_type": "stream",
     "text": [
      "Please enter number of rounds you want to play. It needs to be an odd number: 3\n",
      "-----------------------------------\n",
      "rock(r) - paper(p) - scissors(sc) - spock(sp) - lizard(l): r\n",
      "Computer: rock Player: rock\n",
      "It's a tie!\n",
      "-----------------------------------\n",
      "rock(r) - paper(p) - scissors(sc) - spock(sp) - lizard(l): p\n",
      "Computer: lizard Player: paper\n",
      "The computer wins!\n",
      "-----------------------------------\n",
      "rock(r) - paper(p) - scissors(sc) - spock(sp) - lizard(l): s\n",
      "rock(r) - paper(p) - scissors(sc) - spock(sp) - lizard(l): sp\n",
      "Computer: scissors Player: spock\n",
      "You win!\n",
      "-----------------------------------\n",
      "rock(r) - paper(p) - scissors(sc) - spock(sp) - lizard(l): sp\n",
      "Computer: spock Player: spock\n",
      "It's a tie!\n",
      "-----------------------------------\n",
      "rock(r) - paper(p) - scissors(sc) - spock(sp) - lizard(l): sp\n",
      "Computer: paper Player: spock\n",
      "The computer wins!\n",
      "-----------------------------------\n",
      "END OF GAME\n"
     ]
    }
   ],
   "source": [
    "cpu_score = 0\n",
    "player_score = 0\n",
    "N_ROUNDS = int(request_n_rounds())\n",
    "rounds_to_win = round(N_ROUNDS/2)\n",
    "while (max([cpu_score,player_score])<rounds_to_win):\n",
    "    print(\"-----------------------------------\")\n",
    "    g_cpu = rpssl()\n",
    "    g_player = play_rpssl()\n",
    "    game(g_cpu,g_player)\n",
    "print(\"-----------------------------------\")\n",
    "print(\"END OF GAME\")"
   ]
  },
  {
   "cell_type": "code",
   "execution_count": 477,
   "metadata": {},
   "outputs": [
    {
     "name": "stdout",
     "output_type": "stream",
     "text": [
      "-----------------------------------\n",
      "!!! THE COMPUTER WINS THE MATCH !!!\n",
      "-----------------------------------\n"
     ]
    }
   ],
   "source": [
    "if (max([cpu_score,player_score])==rounds_to_win):\n",
    "    if cpu_score==rounds_to_win: \n",
    "        print(\"-----------------------------------\")\n",
    "        print(\"!!! THE COMPUTER WINS THE MATCH !!!\")\n",
    "        print(\"-----------------------------------\")\n",
    "    elif player_score==rounds_to_win: \n",
    "        print(\"-----------------------------------\")\n",
    "        print(\"!!! YOU WIN THE MATCH !!!\")\n",
    "        print(\"-----------------------------------\")"
   ]
  }
 ],
 "metadata": {
  "kernelspec": {
   "display_name": "Python 3 (ipykernel)",
   "language": "python",
   "name": "python3"
  },
  "language_info": {
   "codemirror_mode": {
    "name": "ipython",
    "version": 3
   },
   "file_extension": ".py",
   "mimetype": "text/x-python",
   "name": "python",
   "nbconvert_exporter": "python",
   "pygments_lexer": "ipython3",
   "version": "3.9.7"
  },
  "toc": {
   "base_numbering": 1,
   "nav_menu": {},
   "number_sections": true,
   "sideBar": true,
   "skip_h1_title": false,
   "title_cell": "Table of Contents",
   "title_sidebar": "Contents",
   "toc_cell": false,
   "toc_position": {},
   "toc_section_display": true,
   "toc_window_display": false
  }
 },
 "nbformat": 4,
 "nbformat_minor": 2
}
