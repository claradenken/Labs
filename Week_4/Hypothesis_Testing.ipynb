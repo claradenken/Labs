{
 "cells": [
  {
   "cell_type": "markdown",
   "id": "b6b35473",
   "metadata": {},
   "source": [
    "## Hypothesis Testing\n",
    "\n",
    "#### It is assumed that the mean systolic blood pressure is μ = 120 mm Hg. \n",
    "#### In the Honolulu Heart Study, a sample of n = 100 people had an average systolic blood pressure of 130.1 mm Hg with a standard deviation of 21.21 mm Hg. \n",
    "#### Is the group significantly different (with respect to systolic blood pressure!) from the regular population?\n",
    "--------------------------------------------------------------------------------------------------\n",
    "### 1) Set up the hypothesis test \n",
    "#### (null hypothesis H0 and alternative hypothesis H1)\n",
    "\n",
    "H0: mu = 120 mm Hg\n",
    "\n",
    "H1: mu != 120 mm Hg (two-sided test)"
   ]
  },
  {
   "cell_type": "code",
   "execution_count": 6,
   "id": "7aa69e37",
   "metadata": {},
   "outputs": [],
   "source": [
    "import numpy as np\n",
    "import scipy.stats "
   ]
  },
  {
   "cell_type": "code",
   "execution_count": 1,
   "id": "5e85c54a",
   "metadata": {},
   "outputs": [],
   "source": [
    "mu = 120\n",
    "n = 100\n",
    "xbar = 130.1\n",
    "s = 21.21"
   ]
  },
  {
   "cell_type": "markdown",
   "id": "544ceba4",
   "metadata": {},
   "source": [
    "### 2) Choose hypothesis test\n",
    "Check if n>30 and standard deviation of the population is known. If yes choose z-score, if not choose t-test.\n",
    "\n",
    "In this case the standard deviation of the population is not known. Therefore we will use the t-test.\n",
    "\n",
    "- Calculate the test statistic by hand and also code it in Python. It should be 4.76190. "
   ]
  },
  {
   "cell_type": "code",
   "execution_count": 4,
   "id": "4019abe5",
   "metadata": {},
   "outputs": [
    {
     "data": {
      "text/plain": [
       "4.761904761904759"
      ]
     },
     "execution_count": 4,
     "metadata": {},
     "output_type": "execute_result"
    }
   ],
   "source": [
    "t = (xbar-mu) / (s/np.sqrt(n))\n",
    "t"
   ]
  },
  {
   "cell_type": "markdown",
   "id": "e475fe75",
   "metadata": {},
   "source": [
    "### 3) Look up values in table\n",
    "\n",
    "- What decision can you make based on this calculated value?\n",
    "\n",
    "degrees of freedom: n-1 = 100-1 = 99\n",
    "\n",
    "choose confidence level: 1-alpha = 0.95\n",
    "\n",
    "significance level alpha = 0.05\n",
    "\n",
    "two-tailed test: alpha = 0.1\n",
    "\n",
    "upper critical value in table (for alpha = 0.1 and 99 degrees of freedom): 1.29"
   ]
  },
  {
   "cell_type": "code",
   "execution_count": 10,
   "id": "61593265",
   "metadata": {},
   "outputs": [
    {
     "name": "stdout",
     "output_type": "stream",
     "text": [
      "The critical value corresponding to a 0.95 area of a normal distribution is: 1.29\n"
     ]
    }
   ],
   "source": [
    "t_table = scipy.stats.t.ppf(q=1-0.1, df=99)\n",
    "print(\"The critical value corresponding to a 0.95 area of a normal distribution is: {:.2f}\".format(t_table))"
   ]
  },
  {
   "cell_type": "markdown",
   "id": "abb2210e",
   "metadata": {},
   "source": [
    "### 4) Compare t and the critical value from the table (t_table)"
   ]
  },
  {
   "cell_type": "code",
   "execution_count": 21,
   "id": "cda531ae",
   "metadata": {},
   "outputs": [
    {
     "name": "stdout",
     "output_type": "stream",
     "text": [
      "t              = 4.761904761904759\n",
      "critical value =  1.2901614420275025\n"
     ]
    }
   ],
   "source": [
    "print(\"t              =\",t)\n",
    "print(\"critical value = \",t_table)"
   ]
  },
  {
   "cell_type": "markdown",
   "id": "e1728902",
   "metadata": {},
   "source": [
    "t is larger than the critical value. Therefore we reject the null hypothesis."
   ]
  },
  {
   "cell_type": "code",
   "execution_count": null,
   "id": "d76346c1",
   "metadata": {},
   "outputs": [],
   "source": []
  }
 ],
 "metadata": {
  "kernelspec": {
   "display_name": "Python 3 (ipykernel)",
   "language": "python",
   "name": "python3"
  },
  "language_info": {
   "codemirror_mode": {
    "name": "ipython",
    "version": 3
   },
   "file_extension": ".py",
   "mimetype": "text/x-python",
   "name": "python",
   "nbconvert_exporter": "python",
   "pygments_lexer": "ipython3",
   "version": "3.9.7"
  }
 },
 "nbformat": 4,
 "nbformat_minor": 5
}
