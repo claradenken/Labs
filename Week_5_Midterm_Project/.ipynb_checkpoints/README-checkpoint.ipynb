{
 "cells": [
  {
   "cell_type": "markdown",
   "id": "b0f0e273",
   "metadata": {},
   "source": [
    "# Ironhack Data Analytics Midterm Project - Clara Hauke\n",
    "\n",
    "## <span style=\"color:#ac3973\"><em> Prediction of the winter North Atlantic Oscillation index via linear regression </em></span>\n",
    "\n",
    "### <span style=\"color:#6699ff\"> \\#Modeling \\#LinearRegression \\#ClimateScience </span>\n",
    "\n",
    "## Goal of the project:\n",
    "Goal #1: use selected climate variables in the Northern hemisphere to predict the evolution of the North Atlantic Oscillation (NAO) state in terms of the NAO index with a linear regression model <br>\n",
    "Goal #2: create dashboard to visualize the modeling output\n",
    "\n",
    "\n",
    "## Brief description of the dataset(s):\n",
    "- Feature variables on a global grid (approx. 100 km x 100 km resolution, the regions are specified in the following list) taken from reanalysis ERA5 (https://www.ecmwf.int/en/forecasts/datasets/reanalysis-datasets/era5) spanning the time 1980 - 2021\n",
    "\t1. Sea surface temperature in the North Atlantic (October mean  <span style=\"color:#ac3973\">SST</span>, xxx data points)\n",
    "    2. Sea ice concentration in the Arctic (September + October mean <span style=\"color:#ac3973\">SIT</span>, xxx data points)\n",
    "    3. Snow depth in Eurasia (October mean <span style=\"color:#ac3973\">SND</span>, xxx data points)\n",
    "    4. Stratospheric temperature in 100 hPa height in Northern hemisphere (October mean <span style=\"color:#ac3973\">TA</span>, xxx data points) <br> <br>\n",
    "\n",
    "- Target variable: NAO index\n",
    "\t- one mean value for each winter (December 1st – February 28th) for 1980/81-2021/22 - 41 data points\n",
    "    - determined via Principal Component Analysis for sea surface pressure data by the same model\n",
    "\n",
    "## High-level Planning of the project, e.g:\n",
    "- Day 1 - formulate goal and scope\n",
    "- Day 2 - reading and transforming data into manageable format and datatype in jupyter notebook, EDA, data cleaning if necessary\n",
    "- Day 3 - grid point selection process and linear regression modeling\n",
    "- Day 4 - create dashboard and presentation\n",
    "- Day 5 - present project\n"
   ]
  },
  {
   "cell_type": "code",
   "execution_count": null,
   "id": "40a07b72",
   "metadata": {},
   "outputs": [],
   "source": []
  }
 ],
 "metadata": {
  "kernelspec": {
   "display_name": "Python 3 (ipykernel)",
   "language": "python",
   "name": "python3"
  },
  "language_info": {
   "codemirror_mode": {
    "name": "ipython",
    "version": 3
   },
   "file_extension": ".py",
   "mimetype": "text/x-python",
   "name": "python",
   "nbconvert_exporter": "python",
   "pygments_lexer": "ipython3",
   "version": "3.9.7"
  }
 },
 "nbformat": 4,
 "nbformat_minor": 5
}
