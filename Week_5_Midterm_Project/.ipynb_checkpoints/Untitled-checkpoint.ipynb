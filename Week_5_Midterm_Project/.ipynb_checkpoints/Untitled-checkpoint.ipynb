{
 "cells": [
  {
   "cell_type": "markdown",
   "id": "b0f0e273",
   "metadata": {},
   "source": [
    "# DA Midterm Project\n",
    "### Prediction of the winter North Atlantic Oscillation index via linear regression\n",
    "\n",
    "## Members of the group:\n",
    "- Clara Hauke\n",
    "\n",
    "## Goal of the project:\n",
    "Goal #1: use key selected production parameters to creat ML algorithm to predict target feature(s) in order to minimize scrap rate throughout production process\n",
    "Goal #2: create dashboard for customer & delivery data to visual development of delivery amounts / timeframes etc.\n",
    "\n",
    "\n",
    "## Brief description of the dataset(s) (Source, Number of rows, number of features):\n",
    "- Data set 1 (production data):\n",
    "\t- (anonymised / pseudomised) modified company data\n",
    "\t- approx. 100k rows\n",
    "\t- approx. 150 features / columns\n",
    "\n",
    "- Data set 2 (customer data):\n",
    "\t- (anonymised / pseudomised) modified company data\n",
    "\t- approx. 2.6k rows\n",
    "\t- approx. 30 features / columns\n",
    "\n",
    "## High-level Planning of the project, e.g:\n",
    "- Day 1 - EDA, data cleaning, anonymze data\n",
    "- Day 2 - data cleaning (data types, dates, etc.), \n",
    "- Day 3 - production data transformation & modeling, dashboarding customer data\n",
    "- Day 4 - polish data, create presentation\n"
   ]
  },
  {
   "cell_type": "code",
   "execution_count": null,
   "id": "40a07b72",
   "metadata": {},
   "outputs": [],
   "source": []
  }
 ],
 "metadata": {
  "kernelspec": {
   "display_name": "Python 3 (ipykernel)",
   "language": "python",
   "name": "python3"
  },
  "language_info": {
   "codemirror_mode": {
    "name": "ipython",
    "version": 3
   },
   "file_extension": ".py",
   "mimetype": "text/x-python",
   "name": "python",
   "nbconvert_exporter": "python",
   "pygments_lexer": "ipython3",
   "version": "3.9.7"
  }
 },
 "nbformat": 4,
 "nbformat_minor": 5
}
