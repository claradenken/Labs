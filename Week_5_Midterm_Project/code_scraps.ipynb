{
 "cells": [
  {
   "cell_type": "code",
   "execution_count": 1,
   "id": "a68bcdb4",
   "metadata": {},
   "outputs": [],
   "source": [
    "import netCDF4 as nc  # library needed to read nc files"
   ]
  },
  {
   "cell_type": "markdown",
   "id": "1106acc3",
   "metadata": {},
   "source": [
    "### Predictor variable data for 2021"
   ]
  },
  {
   "cell_type": "code",
   "execution_count": null,
   "id": "8e83efbe",
   "metadata": {},
   "outputs": [],
   "source": [
    "# sea surface temperature, sea ice in october, snow depth, stratospheric temperature\n",
    "ds = nc.Dataset(\"data/additional/ERA5_SFC_MM_2021_10_FLOAT.nc\")\n",
    "\n",
    "# sea ice in september\n",
    "ds_sit_sep = nc.Dataset(\"data/additional/ERA5_SIC_202101-202110.nc\")"
   ]
  },
  {
   "cell_type": "markdown",
   "id": "fe631046",
   "metadata": {},
   "source": [
    "##### (useful code for data exploration)"
   ]
  },
  {
   "cell_type": "code",
   "execution_count": null,
   "id": "01765341",
   "metadata": {},
   "outputs": [],
   "source": [
    "# print information stores in data\n",
    "#print(ds.__dict__)\n",
    "\n",
    "# print dimensions\n",
    "#for dim in ds_svd.dimensions.values():\n",
    "#    print(dim)\n",
    "\n",
    "# print variable metadata\n",
    "#for var in ds_svd.variables.values():\n",
    "#    print(var)\n",
    "\n",
    "# print information for specific variable \n",
    "#print(ds_sit_sep['sic'])\n",
    "#print(ds_svd[\"U\"])"
   ]
  },
  {
   "cell_type": "code",
   "execution_count": null,
   "id": "fbcd5f41",
   "metadata": {},
   "outputs": [],
   "source": [
    "sst = ds[\"tos\"][0,:,:]       # sea surface temperature\n",
    "sit_oct = ds[\"sic\"][0,:,:]   # october sea ice \n",
    "snd = ds[\"snd\"][0,:,:]       # snow depth\n",
    "ta = ds[\"ta100\"][0,:,:]      # stratospheric temperature in 100 hPa\n",
    "                                    \n",
    "sit_sep = ds_sit_sep[\"sic\"][8,:,:]  # september sea ice (taken from other file, see above) \n",
    "                                    # choose only september (=month 9) from months january(=1) - october(=10)"
   ]
  },
  {
   "cell_type": "markdown",
   "id": "915cfc7e",
   "metadata": {},
   "source": [
    "The dimensions are time (1 or 10 in the case of the additional sea ice file), latitude (192) and longitude (384)."
   ]
  },
  {
   "cell_type": "markdown",
   "id": "a3d3c981",
   "metadata": {},
   "source": [
    "#### Calculate mean of September and October sea ice variable"
   ]
  },
  {
   "cell_type": "code",
   "execution_count": null,
   "id": "c5b62c6c",
   "metadata": {},
   "outputs": [],
   "source": [
    "sit = (sit_sep + sit_oct) / 2"
   ]
  },
  {
   "cell_type": "markdown",
   "id": "b9a1c0e2",
   "metadata": {},
   "source": [
    "### (Target variable) NAO index data"
   ]
  },
  {
   "cell_type": "code",
   "execution_count": null,
   "id": "197d07d1",
   "metadata": {},
   "outputs": [],
   "source": [
    "ds_svd = nc.Dataset(\"data/additional/SVDcov_DJF_ERA5_1981-2021.nc\")"
   ]
  },
  {
   "cell_type": "code",
   "execution_count": null,
   "id": "e28ef176",
   "metadata": {},
   "outputs": [],
   "source": [
    "U = ds_svd[\"U\"][:]\n",
    "NAO = U[0,:]"
   ]
  }
 ],
 "metadata": {
  "kernelspec": {
   "display_name": "Python 3 (ipykernel)",
   "language": "python",
   "name": "python3"
  },
  "language_info": {
   "codemirror_mode": {
    "name": "ipython",
    "version": 3
   },
   "file_extension": ".py",
   "mimetype": "text/x-python",
   "name": "python",
   "nbconvert_exporter": "python",
   "pygments_lexer": "ipython3",
   "version": "3.9.7"
  }
 },
 "nbformat": 4,
 "nbformat_minor": 5
}
