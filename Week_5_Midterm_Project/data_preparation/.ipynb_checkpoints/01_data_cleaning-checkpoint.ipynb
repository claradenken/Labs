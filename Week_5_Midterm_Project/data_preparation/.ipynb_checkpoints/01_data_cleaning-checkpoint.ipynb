{
 "cells": [
  {
   "cell_type": "code",
   "execution_count": 97,
   "id": "775fe336",
   "metadata": {},
   "outputs": [],
   "source": [
    "import netCDF4 as nc\n",
    "import numpy as np\n",
    "import pandas as pd"
   ]
  },
  {
   "cell_type": "code",
   "execution_count": 98,
   "id": "e748be02",
   "metadata": {},
   "outputs": [],
   "source": [
    "# read data\n",
    "\n",
    "# general variable data\n",
    "ds = nc.Dataset(\"/Users/hauke/Ironhack/GitHub/Labs/Week_5_Midterm_Project/data/ERA5_SFC_MM_2021_10_FLOAT.nc\")\n",
    "\n",
    "# data for sea ice in september\n",
    "ds_sit_sep = nc.Dataset(\"/Users/hauke/Ironhack/GitHub/Labs/Week_5_Midterm_Project/data/ERA5_SIC_202101-202110.nc\")"
   ]
  },
  {
   "cell_type": "code",
   "execution_count": 99,
   "id": "e93615f1",
   "metadata": {},
   "outputs": [],
   "source": [
    "# print information stores in data\n",
    "#print(ds.__dict__)"
   ]
  },
  {
   "cell_type": "code",
   "execution_count": 100,
   "id": "e491d46d",
   "metadata": {},
   "outputs": [
    {
     "name": "stdout",
     "output_type": "stream",
     "text": [
      "<class 'netCDF4._netCDF4.Dimension'>: name = 'lon', size = 384\n",
      "<class 'netCDF4._netCDF4.Dimension'>: name = 'lat', size = 192\n",
      "<class 'netCDF4._netCDF4.Dimension'> (unlimited): name = 'time', size = 1\n",
      "<class 'netCDF4._netCDF4.Dimension'>: name = 'bnds', size = 2\n"
     ]
    }
   ],
   "source": [
    "# print dimensions\n",
    "for dim in ds.dimensions.values():\n",
    "    print(dim)"
   ]
  },
  {
   "cell_type": "code",
   "execution_count": 101,
   "id": "761b7786",
   "metadata": {},
   "outputs": [],
   "source": [
    "# print variable metadata\n",
    "#for var in ds.variables.values():\n",
    "#    print(var)"
   ]
  },
  {
   "cell_type": "code",
   "execution_count": 117,
   "id": "e8cae795",
   "metadata": {
    "scrolled": true
   },
   "outputs": [],
   "source": [
    "# print information for specific variable \n",
    "# print(ds_sit_sep['sic'])"
   ]
  },
  {
   "cell_type": "markdown",
   "id": "cd3e6a29",
   "metadata": {},
   "source": [
    "The dimensions are time (1 or 10 in the case of the additional sea ice file), lat (192) and lon (384)."
   ]
  },
  {
   "cell_type": "code",
   "execution_count": 118,
   "id": "8b5c28d3",
   "metadata": {},
   "outputs": [],
   "source": [
    "# access data values\n",
    "sst = ds[\"tos\"][0,:,:]       # sea surface temperature\n",
    "sit_oct = ds[\"sic\"][0,:,:]   # october sea ice \n",
    "snd = ds[\"snd\"][0,:,:]       # snow depth\n",
    "ta = ds[\"ta100\"][0,:,:]      # stratospheric temperature in 100 hPa\n",
    "                                    # choose only september (=month 9) from months january(=1) - october(=10)\n",
    "sit_sep = ds_sit_sep[\"sic\"][9,:,:]  # september sea ice (taken from other file, see above) "
   ]
  },
  {
   "cell_type": "markdown",
   "id": "893c9317",
   "metadata": {},
   "source": [
    "### Calculate mean of September and October sea ice variable"
   ]
  },
  {
   "cell_type": "code",
   "execution_count": 126,
   "id": "23a5fd10",
   "metadata": {},
   "outputs": [
    {
     "data": {
      "text/plain": [
       "numpy.ndarray"
      ]
     },
     "execution_count": 126,
     "metadata": {},
     "output_type": "execute_result"
    }
   ],
   "source": [
    "# create empty numpy array to fill in with mean values of september and october sea ice values\n",
    "x = np.zeros((192,384))"
   ]
  },
  {
   "cell_type": "code",
   "execution_count": null,
   "id": "591b03ed",
   "metadata": {},
   "outputs": [],
   "source": []
  }
 ],
 "metadata": {
  "kernelspec": {
   "display_name": "Python 3 (ipykernel)",
   "language": "python",
   "name": "python3"
  },
  "language_info": {
   "codemirror_mode": {
    "name": "ipython",
    "version": 3
   },
   "file_extension": ".py",
   "mimetype": "text/x-python",
   "name": "python",
   "nbconvert_exporter": "python",
   "pygments_lexer": "ipython3",
   "version": "3.9.7"
  }
 },
 "nbformat": 4,
 "nbformat_minor": 5
}
