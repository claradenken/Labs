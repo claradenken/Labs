{
 "cells": [
  {
   "cell_type": "code",
   "execution_count": 1,
   "id": "775fe336",
   "metadata": {},
   "outputs": [],
   "source": [
    "import numpy as np\n",
    "import pandas as pd\n",
    "import pyreadr     # to read Rdata files\n",
    "from sklearn.model_selection import train_test_split\n",
    "import statsmodels.api as sm\n",
    "from sklearn.preprocessing import StandardScaler\n",
    "from sklearn.linear_model import LinearRegression\n",
    "import matplotlib.pyplot as plt\n",
    "import seaborn as sns\n",
    "from sklearn.metrics import r2_score\n",
    "from sklearn.metrics import mean_squared_error as mse\n",
    "from sklearn.metrics import mean_absolute_error as mae"
   ]
  },
  {
   "cell_type": "markdown",
   "id": "43c222ef",
   "metadata": {},
   "source": [
    "### Load predictor and target variable data for 1980-2020"
   ]
  },
  {
   "cell_type": "code",
   "execution_count": 2,
   "id": "8fe9e984",
   "metadata": {},
   "outputs": [],
   "source": [
    "# data will be a dictionary where keys are the name of objects and the values python objects\n",
    "data = pyreadr.read_r('/Users/hauke/Ironhack/GitHub/Labs/Week_5_Midterm_Project/data/predictors_testdata_detr_stand_AC.Rdata') # also works for Rds\n",
    "# print(data.keys())\n",
    "\n",
    "# extract variable data (only Northern hemisphere), for years 1980/81 - 2020/21\n",
    "sst = data[\"SST_AC\"][:,96:,:]           # sea surface temperature\n",
    "sit = data[\"SIT_sepoct_AC\"][:,96:,:]    # sea ice (mean of september and october)\n",
    "snd = data[\"SND_AC\"][:,96:,:]           # snow depth\n",
    "ta = data[\"TA_AC\"][:,96:,:]             # stratospheric temperature in 100 hPa height\n",
    "NAO = data[\"NAO\"]                       # North Atlantic Oscillation index"
   ]
  },
  {
   "cell_type": "markdown",
   "id": "b3058890",
   "metadata": {},
   "source": [
    "#### Cut geographical regions"
   ]
  },
  {
   "cell_type": "code",
   "execution_count": 3,
   "id": "8b6cc857",
   "metadata": {},
   "outputs": [],
   "source": [
    "# exclude everything outside of Northern Atlantic for the SST predictor\n",
    "lon1 = 106\n",
    "lon2 = 202\n",
    "lat1 = 0\n",
    "lat2 = 69\n",
    "for lon in np.arange(0,384):\n",
    "    for lat in np.arange(0,96):\n",
    "        if lon<lon1 or lon>lon2 or lat<lat1 or lat>lat2:\n",
    "            sst[lon,lat,:] = None"
   ]
  },
  {
   "cell_type": "code",
   "execution_count": 4,
   "id": "6ef1d665",
   "metadata": {},
   "outputs": [],
   "source": [
    "# exclude everything outside of 40-90N/50-150E for the snow predictor\n",
    "lon1 = 244\n",
    "lon2 = 351\n",
    "lat1 = 138\n",
    "lat2 = 191\n",
    "for lon in np.arange(0,384):\n",
    "    for lat in np.arange(0,96):\n",
    "        if lon<lon1 or lon>lon2 or lat<lat1 or lat>lat2:\n",
    "            snd[lon,lat,:] = None"
   ]
  },
  {
   "cell_type": "markdown",
   "id": "e8b4996a",
   "metadata": {},
   "source": [
    "### Data cleaning"
   ]
  },
  {
   "cell_type": "markdown",
   "id": "7fb10229",
   "metadata": {},
   "source": [
    "#### Snow depth predictor - replace \"nan\" entries with \"None\""
   ]
  },
  {
   "cell_type": "code",
   "execution_count": 5,
   "id": "71d02444",
   "metadata": {},
   "outputs": [
    {
     "data": {
      "text/plain": [
       "(384, 96, 41)"
      ]
     },
     "execution_count": 5,
     "metadata": {},
     "output_type": "execute_result"
    }
   ],
   "source": [
    "snd.shape"
   ]
  },
  {
   "cell_type": "code",
   "execution_count": 6,
   "id": "832d7f6c",
   "metadata": {},
   "outputs": [],
   "source": [
    "for row in np.arange(0,41):\n",
    "    for lon in np.arange(0,384):\n",
    "        for lat in np.arange(0,96):\n",
    "            if np.isnan(float(snd[lon,lat,row])):\n",
    "                snd[lon,lat,row] = None"
   ]
  },
  {
   "cell_type": "markdown",
   "id": "7566c5df",
   "metadata": {},
   "source": [
    "---> to do: fix nan problem for snd predictor"
   ]
  },
  {
   "cell_type": "markdown",
   "id": "b3c479db",
   "metadata": {},
   "source": [
    "#### Calculate average over regions"
   ]
  },
  {
   "cell_type": "code",
   "execution_count": 7,
   "id": "332d3b59",
   "metadata": {
    "scrolled": true
   },
   "outputs": [
    {
     "name": "stderr",
     "output_type": "stream",
     "text": [
      "/var/folders/hb/7qk4qv3176l3p65kc0c65md00000gn/T/ipykernel_81778/3763067657.py:10: SettingWithCopyWarning: \n",
      "A value is trying to be set on a copy of a slice from a DataFrame\n",
      "\n",
      "See the caveats in the documentation: https://pandas.pydata.org/pandas-docs/stable/user_guide/indexing.html#returning-a-view-versus-a-copy\n",
      "  df[\"sst\"][row] = float(np.mean(sst[:,:,row]))\n",
      "/var/folders/hb/7qk4qv3176l3p65kc0c65md00000gn/T/ipykernel_81778/3763067657.py:11: SettingWithCopyWarning: \n",
      "A value is trying to be set on a copy of a slice from a DataFrame\n",
      "\n",
      "See the caveats in the documentation: https://pandas.pydata.org/pandas-docs/stable/user_guide/indexing.html#returning-a-view-versus-a-copy\n",
      "  df[\"sit\"][row] = float(np.mean(sit[:,:,row]))\n",
      "/var/folders/hb/7qk4qv3176l3p65kc0c65md00000gn/T/ipykernel_81778/3763067657.py:12: SettingWithCopyWarning: \n",
      "A value is trying to be set on a copy of a slice from a DataFrame\n",
      "\n",
      "See the caveats in the documentation: https://pandas.pydata.org/pandas-docs/stable/user_guide/indexing.html#returning-a-view-versus-a-copy\n",
      "  df[\"snd\"][row] = float(np.mean(snd[:,:,row]))\n",
      "/var/folders/hb/7qk4qv3176l3p65kc0c65md00000gn/T/ipykernel_81778/3763067657.py:13: SettingWithCopyWarning: \n",
      "A value is trying to be set on a copy of a slice from a DataFrame\n",
      "\n",
      "See the caveats in the documentation: https://pandas.pydata.org/pandas-docs/stable/user_guide/indexing.html#returning-a-view-versus-a-copy\n",
      "  df[\"ta\"][row] = float(np.mean(ta[:,:,row]))\n"
     ]
    }
   ],
   "source": [
    "predictors = [\"sst\",\"sit\",\"snd\",\"ta\"]\n",
    "df = pd.DataFrame(columns=predictors)\n",
    "\n",
    "for var in predictors:\n",
    "    df[var] = np.arange(0,41)\n",
    "\n",
    "df[\"nao\"] = NAO\n",
    "    \n",
    "for row in np.arange(0,41):\n",
    "    df[\"sst\"][row] = float(np.mean(sst[:,:,row]))\n",
    "    df[\"sit\"][row] = float(np.mean(sit[:,:,row]))\n",
    "    df[\"snd\"][row] = float(np.mean(snd[:,:,row]))\n",
    "    df[\"ta\"][row] = float(np.mean(ta[:,:,row]))"
   ]
  },
  {
   "cell_type": "code",
   "execution_count": 8,
   "id": "7bb326b7",
   "metadata": {
    "scrolled": false
   },
   "outputs": [
    {
     "data": {
      "text/html": [
       "<div>\n",
       "<style scoped>\n",
       "    .dataframe tbody tr th:only-of-type {\n",
       "        vertical-align: middle;\n",
       "    }\n",
       "\n",
       "    .dataframe tbody tr th {\n",
       "        vertical-align: top;\n",
       "    }\n",
       "\n",
       "    .dataframe thead th {\n",
       "        text-align: right;\n",
       "    }\n",
       "</style>\n",
       "<table border=\"1\" class=\"dataframe\">\n",
       "  <thead>\n",
       "    <tr style=\"text-align: right;\">\n",
       "      <th></th>\n",
       "      <th>sst</th>\n",
       "      <th>sit</th>\n",
       "      <th>snd</th>\n",
       "      <th>ta</th>\n",
       "      <th>nao</th>\n",
       "    </tr>\n",
       "  </thead>\n",
       "  <tbody>\n",
       "    <tr>\n",
       "      <th>0</th>\n",
       "      <td>0.173638</td>\n",
       "      <td>-0.022510</td>\n",
       "      <td>NaN</td>\n",
       "      <td>-0.000127</td>\n",
       "      <td>0.096773</td>\n",
       "    </tr>\n",
       "    <tr>\n",
       "      <th>1</th>\n",
       "      <td>0.252446</td>\n",
       "      <td>-0.036822</td>\n",
       "      <td>NaN</td>\n",
       "      <td>-0.026400</td>\n",
       "      <td>-0.154986</td>\n",
       "    </tr>\n",
       "    <tr>\n",
       "      <th>2</th>\n",
       "      <td>-0.296541</td>\n",
       "      <td>-0.065819</td>\n",
       "      <td>NaN</td>\n",
       "      <td>0.238865</td>\n",
       "      <td>0.176780</td>\n",
       "    </tr>\n",
       "    <tr>\n",
       "      <th>3</th>\n",
       "      <td>-0.032773</td>\n",
       "      <td>-0.003659</td>\n",
       "      <td>NaN</td>\n",
       "      <td>0.231671</td>\n",
       "      <td>0.065726</td>\n",
       "    </tr>\n",
       "    <tr>\n",
       "      <th>4</th>\n",
       "      <td>-0.316160</td>\n",
       "      <td>-0.090295</td>\n",
       "      <td>NaN</td>\n",
       "      <td>-0.058717</td>\n",
       "      <td>-0.224533</td>\n",
       "    </tr>\n",
       "    <tr>\n",
       "      <th>5</th>\n",
       "      <td>-0.349634</td>\n",
       "      <td>-0.055163</td>\n",
       "      <td>NaN</td>\n",
       "      <td>0.036546</td>\n",
       "      <td>-0.156925</td>\n",
       "    </tr>\n",
       "    <tr>\n",
       "      <th>6</th>\n",
       "      <td>-0.404439</td>\n",
       "      <td>0.071345</td>\n",
       "      <td>NaN</td>\n",
       "      <td>-0.119365</td>\n",
       "      <td>-0.127978</td>\n",
       "    </tr>\n",
       "    <tr>\n",
       "      <th>7</th>\n",
       "      <td>0.480210</td>\n",
       "      <td>0.034630</td>\n",
       "      <td>NaN</td>\n",
       "      <td>0.244599</td>\n",
       "      <td>-0.084103</td>\n",
       "    </tr>\n",
       "    <tr>\n",
       "      <th>8</th>\n",
       "      <td>-0.181595</td>\n",
       "      <td>0.050436</td>\n",
       "      <td>NaN</td>\n",
       "      <td>-0.155971</td>\n",
       "      <td>0.288784</td>\n",
       "    </tr>\n",
       "    <tr>\n",
       "      <th>9</th>\n",
       "      <td>-0.229239</td>\n",
       "      <td>-0.002759</td>\n",
       "      <td>NaN</td>\n",
       "      <td>0.140543</td>\n",
       "      <td>0.072491</td>\n",
       "    </tr>\n",
       "    <tr>\n",
       "      <th>10</th>\n",
       "      <td>0.398137</td>\n",
       "      <td>-0.022409</td>\n",
       "      <td>NaN</td>\n",
       "      <td>-0.030048</td>\n",
       "      <td>0.037408</td>\n",
       "    </tr>\n",
       "    <tr>\n",
       "      <th>11</th>\n",
       "      <td>-0.370543</td>\n",
       "      <td>-0.018454</td>\n",
       "      <td>NaN</td>\n",
       "      <td>0.592554</td>\n",
       "      <td>0.144223</td>\n",
       "    </tr>\n",
       "    <tr>\n",
       "      <th>12</th>\n",
       "      <td>-0.566063</td>\n",
       "      <td>0.042725</td>\n",
       "      <td>NaN</td>\n",
       "      <td>0.220438</td>\n",
       "      <td>0.188450</td>\n",
       "    </tr>\n",
       "    <tr>\n",
       "      <th>13</th>\n",
       "      <td>-0.319110</td>\n",
       "      <td>0.054005</td>\n",
       "      <td>NaN</td>\n",
       "      <td>0.004365</td>\n",
       "      <td>0.008549</td>\n",
       "    </tr>\n",
       "    <tr>\n",
       "      <th>14</th>\n",
       "      <td>-0.206025</td>\n",
       "      <td>0.052350</td>\n",
       "      <td>NaN</td>\n",
       "      <td>-0.177532</td>\n",
       "      <td>0.151178</td>\n",
       "    </tr>\n",
       "    <tr>\n",
       "      <th>15</th>\n",
       "      <td>0.242051</td>\n",
       "      <td>-0.033127</td>\n",
       "      <td>NaN</td>\n",
       "      <td>-0.124713</td>\n",
       "      <td>-0.273061</td>\n",
       "    </tr>\n",
       "    <tr>\n",
       "      <th>16</th>\n",
       "      <td>-0.210146</td>\n",
       "      <td>0.069816</td>\n",
       "      <td>NaN</td>\n",
       "      <td>-0.197343</td>\n",
       "      <td>-0.007279</td>\n",
       "    </tr>\n",
       "    <tr>\n",
       "      <th>17</th>\n",
       "      <td>0.469405</td>\n",
       "      <td>0.016799</td>\n",
       "      <td>NaN</td>\n",
       "      <td>-0.006109</td>\n",
       "      <td>-0.072881</td>\n",
       "    </tr>\n",
       "    <tr>\n",
       "      <th>18</th>\n",
       "      <td>0.638650</td>\n",
       "      <td>0.017113</td>\n",
       "      <td>NaN</td>\n",
       "      <td>0.003155</td>\n",
       "      <td>0.108850</td>\n",
       "    </tr>\n",
       "    <tr>\n",
       "      <th>19</th>\n",
       "      <td>-0.005256</td>\n",
       "      <td>0.015623</td>\n",
       "      <td>NaN</td>\n",
       "      <td>-0.019806</td>\n",
       "      <td>0.220279</td>\n",
       "    </tr>\n",
       "    <tr>\n",
       "      <th>20</th>\n",
       "      <td>-0.121573</td>\n",
       "      <td>0.008389</td>\n",
       "      <td>NaN</td>\n",
       "      <td>-0.594448</td>\n",
       "      <td>-0.138873</td>\n",
       "    </tr>\n",
       "    <tr>\n",
       "      <th>21</th>\n",
       "      <td>0.415754</td>\n",
       "      <td>0.017495</td>\n",
       "      <td>NaN</td>\n",
       "      <td>-0.278556</td>\n",
       "      <td>0.027926</td>\n",
       "    </tr>\n",
       "    <tr>\n",
       "      <th>22</th>\n",
       "      <td>-0.010843</td>\n",
       "      <td>-0.017772</td>\n",
       "      <td>NaN</td>\n",
       "      <td>-0.323227</td>\n",
       "      <td>-0.123672</td>\n",
       "    </tr>\n",
       "    <tr>\n",
       "      <th>23</th>\n",
       "      <td>0.785036</td>\n",
       "      <td>-0.017981</td>\n",
       "      <td>NaN</td>\n",
       "      <td>-0.377205</td>\n",
       "      <td>-0.095001</td>\n",
       "    </tr>\n",
       "    <tr>\n",
       "      <th>24</th>\n",
       "      <td>0.209564</td>\n",
       "      <td>0.023980</td>\n",
       "      <td>NaN</td>\n",
       "      <td>-0.172170</td>\n",
       "      <td>0.070065</td>\n",
       "    </tr>\n",
       "    <tr>\n",
       "      <th>25</th>\n",
       "      <td>0.381468</td>\n",
       "      <td>0.012532</td>\n",
       "      <td>NaN</td>\n",
       "      <td>-0.257338</td>\n",
       "      <td>-0.137900</td>\n",
       "    </tr>\n",
       "    <tr>\n",
       "      <th>26</th>\n",
       "      <td>0.461225</td>\n",
       "      <td>0.019645</td>\n",
       "      <td>NaN</td>\n",
       "      <td>0.177966</td>\n",
       "      <td>0.097792</td>\n",
       "    </tr>\n",
       "    <tr>\n",
       "      <th>27</th>\n",
       "      <td>-0.046583</td>\n",
       "      <td>-0.069640</td>\n",
       "      <td>NaN</td>\n",
       "      <td>-0.170603</td>\n",
       "      <td>0.100766</td>\n",
       "    </tr>\n",
       "    <tr>\n",
       "      <th>28</th>\n",
       "      <td>0.042020</td>\n",
       "      <td>0.004797</td>\n",
       "      <td>NaN</td>\n",
       "      <td>0.174476</td>\n",
       "      <td>-0.088007</td>\n",
       "    </tr>\n",
       "    <tr>\n",
       "      <th>29</th>\n",
       "      <td>0.120698</td>\n",
       "      <td>0.008247</td>\n",
       "      <td>NaN</td>\n",
       "      <td>0.110154</td>\n",
       "      <td>-0.489618</td>\n",
       "    </tr>\n",
       "    <tr>\n",
       "      <th>30</th>\n",
       "      <td>0.368061</td>\n",
       "      <td>0.004274</td>\n",
       "      <td>NaN</td>\n",
       "      <td>0.239087</td>\n",
       "      <td>-0.227747</td>\n",
       "    </tr>\n",
       "    <tr>\n",
       "      <th>31</th>\n",
       "      <td>-0.113800</td>\n",
       "      <td>0.004329</td>\n",
       "      <td>NaN</td>\n",
       "      <td>0.149093</td>\n",
       "      <td>0.129980</td>\n",
       "    </tr>\n",
       "    <tr>\n",
       "      <th>32</th>\n",
       "      <td>0.032883</td>\n",
       "      <td>-0.069683</td>\n",
       "      <td>NaN</td>\n",
       "      <td>-0.200992</td>\n",
       "      <td>-0.161701</td>\n",
       "    </tr>\n",
       "    <tr>\n",
       "      <th>33</th>\n",
       "      <td>-0.072131</td>\n",
       "      <td>0.073087</td>\n",
       "      <td>NaN</td>\n",
       "      <td>-0.060835</td>\n",
       "      <td>0.011707</td>\n",
       "    </tr>\n",
       "    <tr>\n",
       "      <th>34</th>\n",
       "      <td>-0.163599</td>\n",
       "      <td>0.060659</td>\n",
       "      <td>NaN</td>\n",
       "      <td>-0.097942</td>\n",
       "      <td>0.190534</td>\n",
       "    </tr>\n",
       "    <tr>\n",
       "      <th>35</th>\n",
       "      <td>-0.106328</td>\n",
       "      <td>0.059598</td>\n",
       "      <td>NaN</td>\n",
       "      <td>0.361780</td>\n",
       "      <td>0.098404</td>\n",
       "    </tr>\n",
       "    <tr>\n",
       "      <th>36</th>\n",
       "      <td>-0.331639</td>\n",
       "      <td>-0.049753</td>\n",
       "      <td>NaN</td>\n",
       "      <td>-0.007806</td>\n",
       "      <td>0.054126</td>\n",
       "    </tr>\n",
       "    <tr>\n",
       "      <th>37</th>\n",
       "      <td>-0.227937</td>\n",
       "      <td>-0.002143</td>\n",
       "      <td>NaN</td>\n",
       "      <td>0.052418</td>\n",
       "      <td>0.021664</td>\n",
       "    </tr>\n",
       "    <tr>\n",
       "      <th>38</th>\n",
       "      <td>-0.544395</td>\n",
       "      <td>-0.059240</td>\n",
       "      <td>NaN</td>\n",
       "      <td>0.304364</td>\n",
       "      <td>-0.005549</td>\n",
       "    </tr>\n",
       "    <tr>\n",
       "      <th>39</th>\n",
       "      <td>-0.168347</td>\n",
       "      <td>-0.027215</td>\n",
       "      <td>NaN</td>\n",
       "      <td>0.018556</td>\n",
       "      <td>0.207359</td>\n",
       "    </tr>\n",
       "    <tr>\n",
       "      <th>40</th>\n",
       "      <td>-0.076547</td>\n",
       "      <td>-0.057429</td>\n",
       "      <td>NaN</td>\n",
       "      <td>0.156621</td>\n",
       "      <td>-0.205058</td>\n",
       "    </tr>\n",
       "  </tbody>\n",
       "</table>\n",
       "</div>"
      ],
      "text/plain": [
       "         sst       sit  snd        ta       nao\n",
       "0   0.173638 -0.022510  NaN -0.000127  0.096773\n",
       "1   0.252446 -0.036822  NaN -0.026400 -0.154986\n",
       "2  -0.296541 -0.065819  NaN  0.238865  0.176780\n",
       "3  -0.032773 -0.003659  NaN  0.231671  0.065726\n",
       "4  -0.316160 -0.090295  NaN -0.058717 -0.224533\n",
       "5  -0.349634 -0.055163  NaN  0.036546 -0.156925\n",
       "6  -0.404439  0.071345  NaN -0.119365 -0.127978\n",
       "7   0.480210  0.034630  NaN  0.244599 -0.084103\n",
       "8  -0.181595  0.050436  NaN -0.155971  0.288784\n",
       "9  -0.229239 -0.002759  NaN  0.140543  0.072491\n",
       "10  0.398137 -0.022409  NaN -0.030048  0.037408\n",
       "11 -0.370543 -0.018454  NaN  0.592554  0.144223\n",
       "12 -0.566063  0.042725  NaN  0.220438  0.188450\n",
       "13 -0.319110  0.054005  NaN  0.004365  0.008549\n",
       "14 -0.206025  0.052350  NaN -0.177532  0.151178\n",
       "15  0.242051 -0.033127  NaN -0.124713 -0.273061\n",
       "16 -0.210146  0.069816  NaN -0.197343 -0.007279\n",
       "17  0.469405  0.016799  NaN -0.006109 -0.072881\n",
       "18  0.638650  0.017113  NaN  0.003155  0.108850\n",
       "19 -0.005256  0.015623  NaN -0.019806  0.220279\n",
       "20 -0.121573  0.008389  NaN -0.594448 -0.138873\n",
       "21  0.415754  0.017495  NaN -0.278556  0.027926\n",
       "22 -0.010843 -0.017772  NaN -0.323227 -0.123672\n",
       "23  0.785036 -0.017981  NaN -0.377205 -0.095001\n",
       "24  0.209564  0.023980  NaN -0.172170  0.070065\n",
       "25  0.381468  0.012532  NaN -0.257338 -0.137900\n",
       "26  0.461225  0.019645  NaN  0.177966  0.097792\n",
       "27 -0.046583 -0.069640  NaN -0.170603  0.100766\n",
       "28  0.042020  0.004797  NaN  0.174476 -0.088007\n",
       "29  0.120698  0.008247  NaN  0.110154 -0.489618\n",
       "30  0.368061  0.004274  NaN  0.239087 -0.227747\n",
       "31 -0.113800  0.004329  NaN  0.149093  0.129980\n",
       "32  0.032883 -0.069683  NaN -0.200992 -0.161701\n",
       "33 -0.072131  0.073087  NaN -0.060835  0.011707\n",
       "34 -0.163599  0.060659  NaN -0.097942  0.190534\n",
       "35 -0.106328  0.059598  NaN  0.361780  0.098404\n",
       "36 -0.331639 -0.049753  NaN -0.007806  0.054126\n",
       "37 -0.227937 -0.002143  NaN  0.052418  0.021664\n",
       "38 -0.544395 -0.059240  NaN  0.304364 -0.005549\n",
       "39 -0.168347 -0.027215  NaN  0.018556  0.207359\n",
       "40 -0.076547 -0.057429  NaN  0.156621 -0.205058"
      ]
     },
     "execution_count": 8,
     "metadata": {},
     "output_type": "execute_result"
    }
   ],
   "source": [
    "df"
   ]
  },
  {
   "cell_type": "markdown",
   "id": "81c754cc",
   "metadata": {},
   "source": [
    "#### NaN values in snd!!! -> drop this column (quick fix for now)"
   ]
  },
  {
   "cell_type": "code",
   "execution_count": 9,
   "id": "435d023f",
   "metadata": {},
   "outputs": [],
   "source": [
    "df = df.drop(\"snd\", axis=1)"
   ]
  },
  {
   "cell_type": "code",
   "execution_count": 10,
   "id": "8f391032",
   "metadata": {
    "scrolled": false
   },
   "outputs": [
    {
     "data": {
      "text/plain": [
       "array([[<AxesSubplot:title={'center':'sst'}>,\n",
       "        <AxesSubplot:title={'center':'sit'}>],\n",
       "       [<AxesSubplot:title={'center':'ta'}>,\n",
       "        <AxesSubplot:title={'center':'nao'}>]], dtype=object)"
      ]
     },
     "execution_count": 10,
     "metadata": {},
     "output_type": "execute_result"
    },
    {
     "data": {
      "image/png": "[encoded data removed]",
      "text/plain": [
       "<Figure size 1200x800 with 4 Axes>"
      ]
     },
     "metadata": {},
     "output_type": "display_data"
    }
   ],
   "source": [
    "df.hist(figsize=(12,8))"
   ]
  },
  {
   "cell_type": "markdown",
   "id": "40eea0c1",
   "metadata": {},
   "source": [
    "---> sit predictor range is one magnitude smaller than for other predictors"
   ]
  },
  {
   "cell_type": "markdown",
   "id": "68356ea5",
   "metadata": {},
   "source": [
    "### Predictive Modeling"
   ]
  },
  {
   "cell_type": "markdown",
   "id": "3b99d731",
   "metadata": {},
   "source": [
    "#### X-y-split"
   ]
  },
  {
   "cell_type": "code",
   "execution_count": 11,
   "id": "5e4c6711",
   "metadata": {},
   "outputs": [],
   "source": [
    "X = df.drop('nao', axis=1)\n",
    "y = df.nao"
   ]
  },
  {
   "cell_type": "code",
   "execution_count": 12,
   "id": "4c37d6ad",
   "metadata": {},
   "outputs": [
    {
     "data": {
      "text/plain": [
       "array([[<AxesSubplot:title={'center':'sst'}>,\n",
       "        <AxesSubplot:title={'center':'sit'}>],\n",
       "       [<AxesSubplot:title={'center':'ta'}>, <AxesSubplot:>]],\n",
       "      dtype=object)"
      ]
     },
     "execution_count": 12,
     "metadata": {},
     "output_type": "execute_result"
    },
    {
     "data": {
      "image/png": "[encoded data removed]",
      "text/plain": [
       "<Figure size 1200x800 with 4 Axes>"
      ]
     },
     "metadata": {},
     "output_type": "display_data"
    }
   ],
   "source": [
    "X.hist(figsize=(12,8))"
   ]
  },
  {
   "cell_type": "markdown",
   "id": "072d787e",
   "metadata": {},
   "source": [
    "#### Data Splitting"
   ]
  },
  {
   "cell_type": "code",
   "execution_count": 13,
   "id": "770d6265",
   "metadata": {},
   "outputs": [],
   "source": [
    "X_train, X_test, y_train, y_test=train_test_split(X, y, test_size=.30,random_state=123)"
   ]
  },
  {
   "cell_type": "markdown",
   "id": "25e169a0",
   "metadata": {},
   "source": [
    "### Standardize"
   ]
  },
  {
   "cell_type": "code",
   "execution_count": 14,
   "id": "2a3a6fca",
   "metadata": {},
   "outputs": [],
   "source": [
    "std_scaler=StandardScaler().fit(X_train)   ##. finding the parameters ( mean, variance from the training set )\n",
    "\n",
    "X_train_scaled=std_scaler.transform(X_train)"
   ]
  },
  {
   "cell_type": "code",
   "execution_count": 15,
   "id": "a585756b",
   "metadata": {},
   "outputs": [
    {
     "data": {
      "text/plain": [
       "(28, 3)"
      ]
     },
     "execution_count": 15,
     "metadata": {},
     "output_type": "execute_result"
    }
   ],
   "source": [
    "X_train.shape"
   ]
  },
  {
   "cell_type": "code",
   "execution_count": 16,
   "id": "ce0b15e6",
   "metadata": {},
   "outputs": [],
   "source": [
    "X_test_scaled=std_scaler.transform(X_test)"
   ]
  },
  {
   "cell_type": "code",
   "execution_count": 17,
   "id": "5c4d0db5",
   "metadata": {},
   "outputs": [
    {
     "data": {
      "text/plain": [
       "array([[-0.27087875, -1.73786708, -0.93785911],\n",
       "       [-2.16023766,  0.92262332,  1.40513276],\n",
       "       [-1.44912738, -0.52591906,  3.6347315 ],\n",
       "       [-0.48817225,  1.32213274,  2.25200701],\n",
       "       [ 1.34657839, -0.61956743, -0.09569547],\n",
       "       [-1.37308159, -1.3950779 ,  0.30331051],\n",
       "       [ 0.81669474, -0.96081983, -0.07384232],\n",
       "       [-1.57240974,  1.60026669, -0.6308535 ],\n",
       "       [-0.71373532, -0.73336276,  0.19552374],\n",
       "       [ 1.5760294 ,  0.37616872,  1.15065237],\n",
       "       [-2.08143025, -1.491616  ,  1.90798753],\n",
       "       [-0.54361973,  0.10964288, -3.47740006],\n",
       "       [ 2.75373647, -0.51471198, -2.17575088]])"
      ]
     },
     "execution_count": 17,
     "metadata": {},
     "output_type": "execute_result"
    }
   ],
   "source": [
    "X_test_scaled"
   ]
  },
  {
   "cell_type": "markdown",
   "id": "f07cab70",
   "metadata": {},
   "source": [
    "### Modeling using Statsmodels"
   ]
  },
  {
   "cell_type": "code",
   "execution_count": 18,
   "id": "b2bc2419",
   "metadata": {},
   "outputs": [],
   "source": [
    "X_train_const_scaled = sm.add_constant(X_train_scaled) # adding a constant"
   ]
  },
  {
   "cell_type": "code",
   "execution_count": 19,
   "id": "1470c75d",
   "metadata": {},
   "outputs": [],
   "source": [
    "model = sm.OLS(y_train, X_train_const_scaled).fit()\n",
    "predictions_train = model.predict(X_train_const_scaled) "
   ]
  },
  {
   "cell_type": "code",
   "execution_count": 20,
   "id": "1877783e",
   "metadata": {},
   "outputs": [],
   "source": [
    "X_test_const_scaled = sm.add_constant(X_test_scaled) # adding a constant"
   ]
  },
  {
   "cell_type": "code",
   "execution_count": 21,
   "id": "c9658401",
   "metadata": {},
   "outputs": [
    {
     "name": "stdout",
     "output_type": "stream",
     "text": [
      "                            OLS Regression Results                            \n",
      "==============================================================================\n",
      "Dep. Variable:                    nao   R-squared:                       0.226\n",
      "Model:                            OLS   Adj. R-squared:                  0.130\n",
      "Method:                 Least Squares   F-statistic:                     2.339\n",
      "Date:                Fri, 18 Nov 2022   Prob (F-statistic):             0.0988\n",
      "Time:                        14:15:29   Log-Likelihood:                 13.413\n",
      "No. Observations:                  28   AIC:                            -18.83\n",
      "Df Residuals:                      24   BIC:                            -13.50\n",
      "Df Model:                           3                                         \n",
      "Covariance Type:            nonrobust                                         \n",
      "==============================================================================\n",
      "                 coef    std err          t      P>|t|      [0.025      0.975]\n",
      "------------------------------------------------------------------------------\n",
      "const         -0.0143      0.031     -0.467      0.645      -0.077       0.049\n",
      "x1            -0.0552      0.031     -1.790      0.086      -0.119       0.008\n",
      "x2             0.0665      0.031      2.120      0.045       0.002       0.131\n",
      "x3            -0.0010      0.031     -0.033      0.974      -0.065       0.063\n",
      "==============================================================================\n",
      "Omnibus:                        5.687   Durbin-Watson:                   1.545\n",
      "Prob(Omnibus):                  0.058   Jarque-Bera (JB):                3.889\n",
      "Skew:                          -0.704   Prob(JB):                        0.143\n",
      "Kurtosis:                       4.162   Cond. No.                         1.25\n",
      "==============================================================================\n",
      "\n",
      "Notes:\n",
      "[1] Standard Errors assume that the covariance matrix of the errors is correctly specified.\n"
     ]
    }
   ],
   "source": [
    "predictions_test = model.predict(X_test_const_scaled) \n",
    "print_model = model.summary()\n",
    "print(print_model)"
   ]
  },
  {
   "cell_type": "code",
   "execution_count": 22,
   "id": "115695ce",
   "metadata": {
    "scrolled": true
   },
   "outputs": [
    {
     "data": {
      "text/plain": [
       "array([-0.11393463,  0.16486718,  0.02696976,  0.0982487 , -0.12973334,\n",
       "       -0.0315763 , -0.1231966 ,  0.17958885, -0.02386011, -0.07747463,\n",
       "       -0.00055354,  0.02661485, -0.19828915])"
      ]
     },
     "execution_count": 22,
     "metadata": {},
     "output_type": "execute_result"
    }
   ],
   "source": [
    "predictions_test"
   ]
  },
  {
   "cell_type": "markdown",
   "id": "b0ad7dfe",
   "metadata": {},
   "source": [
    "### Modeling using Scikit Learn"
   ]
  },
  {
   "cell_type": "markdown",
   "id": "5b926825",
   "metadata": {},
   "source": [
    "#### Fitting"
   ]
  },
  {
   "cell_type": "code",
   "execution_count": 23,
   "id": "9c481fee",
   "metadata": {},
   "outputs": [
    {
     "data": {
      "text/html": [
       "<style>#sk-container-id-1 {color: black;background-color: white;}#sk-container-id-1 pre{padding: 0;}#sk-container-id-1 div.sk-toggleable {background-color: white;}#sk-container-id-1 label.sk-toggleable__label {cursor: pointer;display: block;width: 100%;margin-bottom: 0;padding: 0.3em;box-sizing: border-box;text-align: center;}#sk-container-id-1 label.sk-toggleable__label-arrow:before {content: \"▸\";float: left;margin-right: 0.25em;color: #696969;}#sk-container-id-1 label.sk-toggleable__label-arrow:hover:before {color: black;}#sk-container-id-1 div.sk-estimator:hover label.sk-toggleable__label-arrow:before {color: black;}#sk-container-id-1 div.sk-toggleable__content {max-height: 0;max-width: 0;overflow: hidden;text-align: left;background-color: #f0f8ff;}#sk-container-id-1 div.sk-toggleable__content pre {margin: 0.2em;color: black;border-radius: 0.25em;background-color: #f0f8ff;}#sk-container-id-1 input.sk-toggleable__control:checked~div.sk-toggleable__content {max-height: 200px;max-width: 100%;overflow: auto;}#sk-container-id-1 input.sk-toggleable__control:checked~label.sk-toggleable__label-arrow:before {content: \"▾\";}#sk-container-id-1 div.sk-estimator input.sk-toggleable__control:checked~label.sk-toggleable__label {background-color: #d4ebff;}#sk-container-id-1 div.sk-label input.sk-toggleable__control:checked~label.sk-toggleable__label {background-color: #d4ebff;}#sk-container-id-1 input.sk-hidden--visually {border: 0;clip: rect(1px 1px 1px 1px);clip: rect(1px, 1px, 1px, 1px);height: 1px;margin: -1px;overflow: hidden;padding: 0;position: absolute;width: 1px;}#sk-container-id-1 div.sk-estimator {font-family: monospace;background-color: #f0f8ff;border: 1px dotted black;border-radius: 0.25em;box-sizing: border-box;margin-bottom: 0.5em;}#sk-container-id-1 div.sk-estimator:hover {background-color: #d4ebff;}#sk-container-id-1 div.sk-parallel-item::after {content: \"\";width: 100%;border-bottom: 1px solid gray;flex-grow: 1;}#sk-container-id-1 div.sk-label:hover label.sk-toggleable__label {background-color: #d4ebff;}#sk-container-id-1 div.sk-serial::before {content: \"\";position: absolute;border-left: 1px solid gray;box-sizing: border-box;top: 0;bottom: 0;left: 50%;z-index: 0;}#sk-container-id-1 div.sk-serial {display: flex;flex-direction: column;align-items: center;background-color: white;padding-right: 0.2em;padding-left: 0.2em;position: relative;}#sk-container-id-1 div.sk-item {position: relative;z-index: 1;}#sk-container-id-1 div.sk-parallel {display: flex;align-items: stretch;justify-content: center;background-color: white;position: relative;}#sk-container-id-1 div.sk-item::before, #sk-container-id-1 div.sk-parallel-item::before {content: \"\";position: absolute;border-left: 1px solid gray;box-sizing: border-box;top: 0;bottom: 0;left: 50%;z-index: -1;}#sk-container-id-1 div.sk-parallel-item {display: flex;flex-direction: column;z-index: 1;position: relative;background-color: white;}#sk-container-id-1 div.sk-parallel-item:first-child::after {align-self: flex-end;width: 50%;}#sk-container-id-1 div.sk-parallel-item:last-child::after {align-self: flex-start;width: 50%;}#sk-container-id-1 div.sk-parallel-item:only-child::after {width: 0;}#sk-container-id-1 div.sk-dashed-wrapped {border: 1px dashed gray;margin: 0 0.4em 0.5em 0.4em;box-sizing: border-box;padding-bottom: 0.4em;background-color: white;}#sk-container-id-1 div.sk-label label {font-family: monospace;font-weight: bold;display: inline-block;line-height: 1.2em;}#sk-container-id-1 div.sk-label-container {text-align: center;}#sk-container-id-1 div.sk-container {/* jupyter's `normalize.less` sets `[hidden] { display: none; }` but bootstrap.min.css set `[hidden] { display: none !important; }` so we also need the `!important` here to be able to override the default hidden behavior on the sphinx rendered scikit-learn.org. See: https://github.com/scikit-learn/scikit-learn/issues/21755 */display: inline-block !important;position: relative;}#sk-container-id-1 div.sk-text-repr-fallback {display: none;}</style><div id=\"sk-container-id-1\" class=\"sk-top-container\"><div class=\"sk-text-repr-fallback\"><pre>LinearRegression()</pre><b>In a Jupyter environment, please rerun this cell to show the HTML representation or trust the notebook. <br />On GitHub, the HTML representation is unable to render, please try loading this page with nbviewer.org.</b></div><div class=\"sk-container\" hidden><div class=\"sk-item\"><div class=\"sk-estimator sk-toggleable\"><input class=\"sk-toggleable__control sk-hidden--visually\" id=\"sk-estimator-id-1\" type=\"checkbox\" checked><label for=\"sk-estimator-id-1\" class=\"sk-toggleable__label sk-toggleable__label-arrow\">LinearRegression</label><div class=\"sk-toggleable__content\"><pre>LinearRegression()</pre></div></div></div></div></div>"
      ],
      "text/plain": [
       "LinearRegression()"
      ]
     },
     "execution_count": 23,
     "metadata": {},
     "output_type": "execute_result"
    }
   ],
   "source": [
    "model=LinearRegression()    # model\n",
    "model.fit(X_train_scaled, y_train)   # model train"
   ]
  },
  {
   "cell_type": "code",
   "execution_count": 24,
   "id": "41f84860",
   "metadata": {},
   "outputs": [
    {
     "data": {
      "text/plain": [
       "Index(['sst', 'sit', 'ta'], dtype='object')"
      ]
     },
     "execution_count": 24,
     "metadata": {},
     "output_type": "execute_result"
    }
   ],
   "source": [
    "X_train.columns"
   ]
  },
  {
   "cell_type": "code",
   "execution_count": 25,
   "id": "07592042",
   "metadata": {},
   "outputs": [
    {
     "data": {
      "text/plain": [
       "array([-0.05520639,  0.06650086, -0.00103618])"
      ]
     },
     "execution_count": 25,
     "metadata": {},
     "output_type": "execute_result"
    }
   ],
   "source": [
    "model.coef_"
   ]
  },
  {
   "cell_type": "code",
   "execution_count": 26,
   "id": "8a9a3917",
   "metadata": {},
   "outputs": [
    {
     "data": {
      "text/plain": [
       "-0.014291002348597563"
      ]
     },
     "execution_count": 26,
     "metadata": {},
     "output_type": "execute_result"
    }
   ],
   "source": [
    "model.intercept_"
   ]
  },
  {
   "cell_type": "markdown",
   "id": "97f0f88b",
   "metadata": {},
   "source": [
    "#### Making prediction"
   ]
  },
  {
   "cell_type": "code",
   "execution_count": 27,
   "id": "c501dc81",
   "metadata": {},
   "outputs": [],
   "source": [
    "y_pred=model.predict(X_test_scaled)   # model prediction\n",
    "\n",
    "y_pred_train=model.predict(X_train_scaled)"
   ]
  },
  {
   "cell_type": "code",
   "execution_count": 28,
   "id": "cfd733e1",
   "metadata": {},
   "outputs": [
    {
     "data": {
      "text/plain": [
       "array([-0.11393463,  0.16486718,  0.02696976,  0.0982487 , -0.12973334,\n",
       "       -0.0315763 , -0.1231966 ,  0.17958885, -0.02386011, -0.07747463,\n",
       "       -0.00055354,  0.02661485, -0.19828915])"
      ]
     },
     "execution_count": 28,
     "metadata": {},
     "output_type": "execute_result"
    }
   ],
   "source": [
    "y_pred"
   ]
  },
  {
   "cell_type": "code",
   "execution_count": 29,
   "id": "b2b14b7a",
   "metadata": {
    "scrolled": true
   },
   "outputs": [
    {
     "data": {
      "text/plain": [
       "27    0.100766\n",
       "12    0.188450\n",
       "11    0.144223\n",
       "35    0.098404\n",
       "10    0.037408\n",
       "5    -0.156925\n",
       "1    -0.154986\n",
       "6    -0.127978\n",
       "39    0.207359\n",
       "26    0.097792\n",
       "38   -0.005549\n",
       "20   -0.138873\n",
       "23   -0.095001\n",
       "Name: nao, dtype: float64"
      ]
     },
     "execution_count": 29,
     "metadata": {},
     "output_type": "execute_result"
    }
   ],
   "source": [
    "y_test"
   ]
  },
  {
   "cell_type": "markdown",
   "id": "9b419817",
   "metadata": {},
   "source": [
    "### Evaluating Model Performance"
   ]
  },
  {
   "cell_type": "code",
   "execution_count": 30,
   "id": "e64dcdec",
   "metadata": {},
   "outputs": [],
   "source": [
    "result=pd.DataFrame({\"y_test\":y_test,\"y_pred\":y_pred})"
   ]
  },
  {
   "cell_type": "code",
   "execution_count": 31,
   "id": "515c2792",
   "metadata": {
    "scrolled": false
   },
   "outputs": [
    {
     "data": {
      "text/plain": [
       "[<matplotlib.lines.Line2D at 0x7fa8fe6462e0>]"
      ]
     },
     "execution_count": 31,
     "metadata": {},
     "output_type": "execute_result"
    },
    {
     "data": {
      "image/png": "[encoded data removed]",
      "text/plain": [
       "<Figure size 1400x400 with 3 Axes>"
      ]
     },
     "metadata": {},
     "output_type": "display_data"
    }
   ],
   "source": [
    "# Make an scatter plot y_pred vs y\n",
    "\n",
    "fig, ax = plt.subplots(1,3,figsize=(14,4))\n",
    "ax[0].plot(y_pred, y_test, 'o')\n",
    "ax[0].set_xlabel(\"y_test\")\n",
    "ax[0].set_ylabel(\"y_pred\")\n",
    "ax[0].set_title(\"Test Set -Predicted vs real\")\n",
    "\n",
    "# Get a histogram of the residuals ie: y - y_pred.  Homoscdasticity\n",
    "# It resembles a normal distribution?\n",
    "ax[1].hist(y_test - y_pred)\n",
    "ax[1].set_xlabel(\"Test y-y_pred\")\n",
    "ax[1].set_title(\"Test Set Residual histogram\")\n",
    "\n",
    "ax[2].plot(y_pred,y_test - y_pred,\"o\")\n",
    "ax[2].set_xlabel(\"predicted\")\n",
    "ax[2].set_ylabel(\"residuals\")\n",
    "ax[2].set_title(\"Residuals by Predicted\")\n",
    "ax[2].plot(y_pred,np.zeros(len(y_pred)),linestyle='dashed')"
   ]
  },
  {
   "cell_type": "code",
   "execution_count": 32,
   "id": "5e324c02",
   "metadata": {},
   "outputs": [
    {
     "data": {
      "text/plain": [
       "<AxesSubplot:xlabel='y_pred', ylabel='y_test'>"
      ]
     },
     "execution_count": 32,
     "metadata": {},
     "output_type": "execute_result"
    },
    {
     "data": {
      "image/png": "[encoded data removed]",
      "text/plain": [
       "<Figure size 640x480 with 1 Axes>"
      ]
     },
     "metadata": {},
     "output_type": "display_data"
    }
   ],
   "source": [
    "sns.regplot(x='y_pred',y='y_test', data=result, scatter_kws={\"color\": \"red\"}, line_kws={\"color\": \"black\"})"
   ]
  },
  {
   "cell_type": "markdown",
   "id": "4b185a34",
   "metadata": {},
   "source": [
    "#### Error metrics"
   ]
  },
  {
   "cell_type": "code",
   "execution_count": 33,
   "id": "d0c5ca35",
   "metadata": {},
   "outputs": [
    {
     "name": "stdout",
     "output_type": "stream",
     "text": [
      "0.024762934578147995\n",
      "0.1282921471187448\n"
     ]
    }
   ],
   "source": [
    "print(mse(y_test,y_pred))\n",
    "print(mae(y_test,y_pred))"
   ]
  },
  {
   "cell_type": "code",
   "execution_count": 34,
   "id": "16a42508",
   "metadata": {},
   "outputs": [
    {
     "data": {
      "text/plain": [
       "0.022462165512557454"
      ]
     },
     "execution_count": 34,
     "metadata": {},
     "output_type": "execute_result"
    }
   ],
   "source": [
    "##prediction on the train set\n",
    "mse(y_train,y_pred_train)"
   ]
  },
  {
   "cell_type": "code",
   "execution_count": 35,
   "id": "5e781038",
   "metadata": {},
   "outputs": [
    {
     "data": {
      "text/plain": [
       "-0.45961340474000956"
      ]
     },
     "execution_count": 35,
     "metadata": {},
     "output_type": "execute_result"
    }
   ],
   "source": [
    "R2=r2_score(y_test,y_pred)\n",
    "R2"
   ]
  },
  {
   "cell_type": "code",
   "execution_count": 36,
   "id": "f352fcfd",
   "metadata": {},
   "outputs": [
    {
     "name": "stdout",
     "output_type": "stream",
     "text": [
      "test R2 is -0.45961340474000956 , train R2 is 0.22625471153883325\n"
     ]
    }
   ],
   "source": [
    "R2_test=model.score(X_test_scaled,y_test)\n",
    "R2_train=model.score(X_train_scaled,y_train)\n",
    "print(\"test R2 is\",R2_test,\", train R2 is\",R2_train)"
   ]
  },
  {
   "cell_type": "code",
   "execution_count": 37,
   "id": "ea0adaea",
   "metadata": {},
   "outputs": [
    {
     "data": {
      "text/plain": [
       "-0.9461512063200128"
      ]
     },
     "execution_count": 37,
     "metadata": {},
     "output_type": "execute_result"
    }
   ],
   "source": [
    "Adj_R2= 1 - (1-R2)*(len(y_test)-1)/(len(y_test)-X_test.shape[1]-1)\n",
    "Adj_R2"
   ]
  },
  {
   "cell_type": "markdown",
   "id": "852bce79",
   "metadata": {},
   "source": [
    "#### Feature importance"
   ]
  },
  {
   "cell_type": "code",
   "execution_count": 43,
   "id": "ee85915a",
   "metadata": {},
   "outputs": [],
   "source": [
    "features_importances = pd.DataFrame(data={\n",
    "    'Attribute': X_train.columns,\n",
    "    'Importance': model.coef_\n",
    "})\n",
    "features_importances = features_importances.sort_values(by='Importance', ascending=False)"
   ]
  },
  {
   "cell_type": "code",
   "execution_count": 44,
   "id": "4f3d827f",
   "metadata": {},
   "outputs": [
    {
     "data": {
      "text/html": [
       "<div>\n",
       "<style scoped>\n",
       "    .dataframe tbody tr th:only-of-type {\n",
       "        vertical-align: middle;\n",
       "    }\n",
       "\n",
       "    .dataframe tbody tr th {\n",
       "        vertical-align: top;\n",
       "    }\n",
       "\n",
       "    .dataframe thead th {\n",
       "        text-align: right;\n",
       "    }\n",
       "</style>\n",
       "<table border=\"1\" class=\"dataframe\">\n",
       "  <thead>\n",
       "    <tr style=\"text-align: right;\">\n",
       "      <th></th>\n",
       "      <th>Attribute</th>\n",
       "      <th>Importance</th>\n",
       "    </tr>\n",
       "  </thead>\n",
       "  <tbody>\n",
       "    <tr>\n",
       "      <th>1</th>\n",
       "      <td>sit</td>\n",
       "      <td>0.066501</td>\n",
       "    </tr>\n",
       "    <tr>\n",
       "      <th>2</th>\n",
       "      <td>ta</td>\n",
       "      <td>-0.001036</td>\n",
       "    </tr>\n",
       "    <tr>\n",
       "      <th>0</th>\n",
       "      <td>sst</td>\n",
       "      <td>-0.055206</td>\n",
       "    </tr>\n",
       "  </tbody>\n",
       "</table>\n",
       "</div>"
      ],
      "text/plain": [
       "  Attribute  Importance\n",
       "1       sit    0.066501\n",
       "2        ta   -0.001036\n",
       "0       sst   -0.055206"
      ]
     },
     "execution_count": 44,
     "metadata": {},
     "output_type": "execute_result"
    }
   ],
   "source": [
    "features_importances"
   ]
  },
  {
   "cell_type": "code",
   "execution_count": 40,
   "id": "5372926d",
   "metadata": {},
   "outputs": [
    {
     "data": {
      "image/png": "[encoded data removed]",
      "text/plain": [
       "<Figure size 640x480 with 1 Axes>"
      ]
     },
     "metadata": {},
     "output_type": "display_data"
    }
   ],
   "source": [
    "plt.bar(x=features_importances['Attribute'], height=features_importances['Importance'], color='#087E8B')\n",
    "plt.title('Feature importances for different coefficients', size=12)\n",
    "plt.xticks(rotation='vertical')\n",
    "plt.show()"
   ]
  }
 ],
 "metadata": {
  "kernelspec": {
   "display_name": "Python 3 (ipykernel)",
   "language": "python",
   "name": "python3"
  },
  "language_info": {
   "codemirror_mode": {
    "name": "ipython",
    "version": 3
   },
   "file_extension": ".py",
   "mimetype": "text/x-python",
   "name": "python",
   "nbconvert_exporter": "python",
   "pygments_lexer": "ipython3",
   "version": "3.9.7"
  }
 },
 "nbformat": 4,
 "nbformat_minor": 5
}
