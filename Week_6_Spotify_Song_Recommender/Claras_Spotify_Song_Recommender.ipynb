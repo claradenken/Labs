{
 "cells": [
  {
   "cell_type": "code",
   "execution_count": 1,
   "id": "3a30b6fc",
   "metadata": {},
   "outputs": [],
   "source": [
    "import numpy as np\n",
    "import pandas as pd\n",
    "\n",
    "# Web Scraping libraries\n",
    "import requests \n",
    "from bs4 import BeautifulSoup \n",
    "\n",
    "# Spotify libraries and config file\n",
    "import config\n",
    "import spotipy\n",
    "import json\n",
    "from spotipy.oauth2 import SpotifyClientCredentials\n",
    "\n",
    "#Initialize SpotiPy with user credentias\n",
    "sp = spotipy.Spotify(auth_manager=SpotifyClientCredentials(client_id= config.client_id,\n",
    "                                                           client_secret= config.client_secret))\n",
    "\n",
    "# Scale Data and model\n",
    "from sklearn.preprocessing import StandardScaler\n",
    "from sklearn.cluster import KMeans\n",
    "from matplotlib import pyplot\n",
    "%matplotlib inline\n",
    "import pickle\n",
    "from sklearn.metrics import silhouette_score\n",
    "\n",
    "# song recommender\n",
    "import random as rd\n",
    "\n",
    "# ignore warnings\n",
    "import warnings\n",
    "warnings.filterwarnings(\"ignore\")"
   ]
  },
  {
   "cell_type": "markdown",
   "id": "7f5a45a5",
   "metadata": {},
   "source": [
    "### Embedded track player"
   ]
  },
  {
   "cell_type": "code",
   "execution_count": 2,
   "id": "7dd23693",
   "metadata": {},
   "outputs": [],
   "source": [
    "from IPython.display import IFrame\n",
    "\n",
    "#track_id = \"1rfORa9iYmocEsnnZGMVC4\"\n",
    "track_id= 'spotify:track:3hgl7EQwTutSm6PESsB7gZ'\n",
    "IFrame(src=\"https://open.spotify.com/embed/track/\"+track_id,\n",
    "       width=\"320\",\n",
    "       height=\"80\",\n",
    "       frameborder=\"0\",\n",
    "       allowtransparency=\"true\",\n",
    "       allow=\"encrypted-media\",\n",
    "      )\n",
    "\n",
    "def play_song(track_id):\n",
    "    return IFrame(src=\"https://open.spotify.com/embed/track/\"+track_id,\n",
    "       width=\"320\",\n",
    "       height=\"80\",\n",
    "       frameborder=\"0\",\n",
    "       allowtransparency=\"true\",\n",
    "       allow=\"encrypted-media\",\n",
    "      )"
   ]
  },
  {
   "cell_type": "markdown",
   "id": "8f5432ef",
   "metadata": {},
   "source": [
    "### Collect a diverse range of spotify playlists"
   ]
  },
  {
   "cell_type": "markdown",
   "id": "50fc6c83",
   "metadata": {},
   "source": [
    "#### Let's try this with webscraping..."
   ]
  },
  {
   "cell_type": "markdown",
   "id": "175c35d7",
   "metadata": {},
   "source": [
    "#download the webpage \n",
    "url = \"https://audiohype.io/resources/the-best-spotify-playlists/\" \n",
    "page = requests.get(url)\n",
    "page.status_code # this should return 200, meaning that all went ok."
   ]
  },
  {
   "cell_type": "markdown",
   "id": "14df422b",
   "metadata": {
    "scrolled": false
   },
   "source": [
    "# parse the html \n",
    "soup = BeautifulSoup(page.content, 'html.parser') \n",
    "\n",
    "# print the formatted html \n",
    "#print(soup.prettify())"
   ]
  },
  {
   "cell_type": "markdown",
   "id": "a6e9c7f6",
   "metadata": {},
   "source": [
    "title = []\n",
    "ids = []\n",
    "for i in range(len(soup.select(\"h3 a\"))):\n",
    "    title.append(soup.select(\"h3 a\")[i].get_text())\n",
    "    ids.append(soup.select(\"h3 a\")[i][\"href\"].strip(\"https://open.spotify.com/playlist/\").split(\"?\")[0])"
   ]
  },
  {
   "cell_type": "markdown",
   "id": "15d655e9",
   "metadata": {
    "scrolled": true
   },
   "source": [
    "df_pl = pd.DataFrame(np.array([title,ids]).transpose(), columns=[\"playlist\",\"id\"])\n",
    "df_pl"
   ]
  },
  {
   "cell_type": "markdown",
   "id": "b25a313d",
   "metadata": {},
   "source": [
    "def get_playlist_tracks(username, playlist_id):\n",
    "    results = sp.user_playlist_tracks(username,playlist_id,market=\"GB\")\n",
    "    tracks = results['items']\n",
    "    while results['next']:\n",
    "        results = sp.next(results)\n",
    "        tracks.extend(results['items'])\n",
    "    return tracks"
   ]
  },
  {
   "cell_type": "markdown",
   "id": "dd44ce33",
   "metadata": {},
   "source": [
    "track_ids = []\n",
    "for pl in range(len(df_pl.playlist)):\n",
    "    x = get_playlist_tracks(\"spotify\", df_pl.id[pl])\n",
    "    for tr in range(len(x)):\n",
    "        if type(x[tr][\"track\"]) is not type(None):\n",
    "            track_ids.append(x[tr][\"track\"][\"id\"])"
   ]
  },
  {
   "cell_type": "markdown",
   "id": "0e320753",
   "metadata": {},
   "source": [
    "### Extract audio features"
   ]
  },
  {
   "cell_type": "markdown",
   "id": "ea6f89ac",
   "metadata": {},
   "source": [
    "song_lst = []"
   ]
  },
  {
   "cell_type": "markdown",
   "id": "1441a1f0",
   "metadata": {},
   "source": [
    "print(\"start at track #\",len(song_lst)-1)\n",
    "for idx in range(len(song_lst)-1,len(tracks)):\n",
    "    if (idx/300) in [range(0,100)]: print(idx)\n",
    "    if type(sp.audio_features(tracks[idx])) is not type(None) and type(sp.audio_features(tracks[idx])[0]) is not type(None):\n",
    "        song_lst.append(sp.audio_features(tracks[idx])[0])\n",
    "df = pd.DataFrame(song_lst)\n",
    "df = df[[\"danceability\",\"energy\",\"loudness\",\"speechiness\",\"acousticness\",\n",
    "    \"instrumentalness\",\"liveness\",\"valence\",\"tempo\",\"id\",\"duration_ms\"]]\n",
    "df"
   ]
  },
  {
   "cell_type": "markdown",
   "id": "f31b2753",
   "metadata": {},
   "source": [
    "df = df.drop_duplicates()\n",
    "audio_features = df.drop(columns=\"id\")"
   ]
  },
  {
   "cell_type": "markdown",
   "id": "085b806c",
   "metadata": {},
   "source": [
    "df.to_csv(\"data/df.csv\", index=False)"
   ]
  },
  {
   "cell_type": "markdown",
   "id": "00358262",
   "metadata": {},
   "source": [
    "audio_features.to_csv(\"data/audio_features.csv\", index=False)"
   ]
  },
  {
   "cell_type": "code",
   "execution_count": 3,
   "id": "23542a6f",
   "metadata": {},
   "outputs": [],
   "source": [
    "af = pd.read_csv(\"data/audio_features.csv\")"
   ]
  },
  {
   "cell_type": "code",
   "execution_count": 4,
   "id": "6e5bece9",
   "metadata": {},
   "outputs": [],
   "source": [
    "df = pd.read_csv(\"data/df.csv\")"
   ]
  },
  {
   "cell_type": "markdown",
   "id": "19d8ee37",
   "metadata": {},
   "source": [
    "### Choose audio features"
   ]
  },
  {
   "cell_type": "code",
   "execution_count": 5,
   "id": "8797647b",
   "metadata": {},
   "outputs": [],
   "source": [
    "audio_features = af[['energy','instrumentalness','liveness']]"
   ]
  },
  {
   "cell_type": "markdown",
   "id": "adf5556f",
   "metadata": {},
   "source": [
    "### Scale data"
   ]
  },
  {
   "cell_type": "code",
   "execution_count": 6,
   "id": "4bffb18a",
   "metadata": {},
   "outputs": [
    {
     "data": {
      "text/html": [
       "<div>\n",
       "<style scoped>\n",
       "    .dataframe tbody tr th:only-of-type {\n",
       "        vertical-align: middle;\n",
       "    }\n",
       "\n",
       "    .dataframe tbody tr th {\n",
       "        vertical-align: top;\n",
       "    }\n",
       "\n",
       "    .dataframe thead th {\n",
       "        text-align: right;\n",
       "    }\n",
       "</style>\n",
       "<table border=\"1\" class=\"dataframe\">\n",
       "  <thead>\n",
       "    <tr style=\"text-align: right;\">\n",
       "      <th></th>\n",
       "      <th>0</th>\n",
       "      <th>1</th>\n",
       "      <th>2</th>\n",
       "    </tr>\n",
       "  </thead>\n",
       "  <tbody>\n",
       "    <tr>\n",
       "      <th>0</th>\n",
       "      <td>-0.047661</td>\n",
       "      <td>-0.866983</td>\n",
       "      <td>-0.256581</td>\n",
       "    </tr>\n",
       "    <tr>\n",
       "      <th>1</th>\n",
       "      <td>-0.670865</td>\n",
       "      <td>-0.866976</td>\n",
       "      <td>0.625953</td>\n",
       "    </tr>\n",
       "    <tr>\n",
       "      <th>2</th>\n",
       "      <td>0.119985</td>\n",
       "      <td>-0.866963</td>\n",
       "      <td>-0.770443</td>\n",
       "    </tr>\n",
       "    <tr>\n",
       "      <th>3</th>\n",
       "      <td>0.273053</td>\n",
       "      <td>-0.864397</td>\n",
       "      <td>0.946227</td>\n",
       "    </tr>\n",
       "    <tr>\n",
       "      <th>4</th>\n",
       "      <td>0.546388</td>\n",
       "      <td>-0.865272</td>\n",
       "      <td>-0.455863</td>\n",
       "    </tr>\n",
       "    <tr>\n",
       "      <th>...</th>\n",
       "      <td>...</td>\n",
       "      <td>...</td>\n",
       "      <td>...</td>\n",
       "    </tr>\n",
       "    <tr>\n",
       "      <th>4714</th>\n",
       "      <td>1.023813</td>\n",
       "      <td>-0.866988</td>\n",
       "      <td>-0.746956</td>\n",
       "    </tr>\n",
       "    <tr>\n",
       "      <th>4715</th>\n",
       "      <td>0.772345</td>\n",
       "      <td>-0.866984</td>\n",
       "      <td>3.508421</td>\n",
       "    </tr>\n",
       "    <tr>\n",
       "      <th>4716</th>\n",
       "      <td>0.757767</td>\n",
       "      <td>-0.866988</td>\n",
       "      <td>-0.391808</td>\n",
       "    </tr>\n",
       "    <tr>\n",
       "      <th>4717</th>\n",
       "      <td>1.027458</td>\n",
       "      <td>-0.784645</td>\n",
       "      <td>-0.583261</td>\n",
       "    </tr>\n",
       "    <tr>\n",
       "      <th>4718</th>\n",
       "      <td>0.772345</td>\n",
       "      <td>-0.866536</td>\n",
       "      <td>4.255728</td>\n",
       "    </tr>\n",
       "  </tbody>\n",
       "</table>\n",
       "<p>4719 rows × 3 columns</p>\n",
       "</div>"
      ],
      "text/plain": [
       "             0         1         2\n",
       "0    -0.047661 -0.866983 -0.256581\n",
       "1    -0.670865 -0.866976  0.625953\n",
       "2     0.119985 -0.866963 -0.770443\n",
       "3     0.273053 -0.864397  0.946227\n",
       "4     0.546388 -0.865272 -0.455863\n",
       "...        ...       ...       ...\n",
       "4714  1.023813 -0.866988 -0.746956\n",
       "4715  0.772345 -0.866984  3.508421\n",
       "4716  0.757767 -0.866988 -0.391808\n",
       "4717  1.027458 -0.784645 -0.583261\n",
       "4718  0.772345 -0.866536  4.255728\n",
       "\n",
       "[4719 rows x 3 columns]"
      ]
     },
     "execution_count": 6,
     "metadata": {},
     "output_type": "execute_result"
    }
   ],
   "source": [
    "scaler = StandardScaler()\n",
    "scaler.fit(audio_features)\n",
    "audio_features_scaled = scaler.transform(audio_features)\n",
    "pd.DataFrame(audio_features_scaled)"
   ]
  },
  {
   "cell_type": "markdown",
   "id": "cbf7cced",
   "metadata": {},
   "source": [
    "### K-means clustering"
   ]
  },
  {
   "cell_type": "code",
   "execution_count": 7,
   "id": "98c03462",
   "metadata": {},
   "outputs": [
    {
     "data": {
      "text/plain": [
       "0    1433\n",
       "1     791\n",
       "2     233\n",
       "3     742\n",
       "4     733\n",
       "5     170\n",
       "6     617\n",
       "dtype: int64"
      ]
     },
     "execution_count": 7,
     "metadata": {},
     "output_type": "execute_result"
    }
   ],
   "source": [
    "kmeans = KMeans(n_clusters=7, random_state=1234)\n",
    "kmeans.fit(audio_features_scaled)\n",
    "# assign a cluster to each example\n",
    "labels = kmeans.predict(audio_features_scaled)\n",
    "# retrieve unique clusters\n",
    "clusters = np.unique(labels)\n",
    "pd.Series(labels).value_counts().sort_index()"
   ]
  },
  {
   "cell_type": "markdown",
   "id": "2fdad70f",
   "metadata": {},
   "source": [
    "#### create scatter plot for samples from each cluster"
   ]
  },
  {
   "cell_type": "markdown",
   "id": "8d469c33",
   "metadata": {},
   "source": [
    "for cluster in clusters:\n",
    "    # get row indexes for samples with this cluster\n",
    "    row_ix = np.where(labels == cluster)\n",
    "    # create scatter of these samples\n",
    "    pyplot.scatter(audio_features.to_numpy()[row_ix, 0], audio_features.to_numpy()[row_ix,2])\n",
    "    pyplot.xlabel(\"liveliness\")\n",
    "    pyplot.ylabel(\"energy\")\n",
    "    # show the plot\n",
    "pyplot.show()"
   ]
  },
  {
   "cell_type": "markdown",
   "id": "d2acd1cc",
   "metadata": {},
   "source": [
    "#### create scatter plot for samples from each cluster"
   ]
  },
  {
   "cell_type": "markdown",
   "id": "e656145b",
   "metadata": {},
   "source": [
    "for cluster in clusters:\n",
    "    # get row indexes for samples with this cluster\n",
    "    row_ix = np.where(labels == cluster)\n",
    "    # create scatter of these samples\n",
    "    pyplot.scatter(audio_features.to_numpy()[row_ix, 1], audio_features.to_numpy()[row_ix, 2])\n",
    "    # show the plot\n",
    "pyplot.show()"
   ]
  },
  {
   "cell_type": "code",
   "execution_count": 8,
   "id": "4770d1fa",
   "metadata": {},
   "outputs": [
    {
     "data": {
      "text/html": [
       "<div>\n",
       "<style scoped>\n",
       "    .dataframe tbody tr th:only-of-type {\n",
       "        vertical-align: middle;\n",
       "    }\n",
       "\n",
       "    .dataframe tbody tr th {\n",
       "        vertical-align: top;\n",
       "    }\n",
       "\n",
       "    .dataframe thead th {\n",
       "        text-align: right;\n",
       "    }\n",
       "</style>\n",
       "<table border=\"1\" class=\"dataframe\">\n",
       "  <thead>\n",
       "    <tr style=\"text-align: right;\">\n",
       "      <th></th>\n",
       "      <th>danceability</th>\n",
       "      <th>energy</th>\n",
       "      <th>loudness</th>\n",
       "      <th>speechiness</th>\n",
       "      <th>acousticness</th>\n",
       "      <th>instrumentalness</th>\n",
       "      <th>liveness</th>\n",
       "      <th>valence</th>\n",
       "      <th>tempo</th>\n",
       "      <th>id</th>\n",
       "      <th>duration_ms</th>\n",
       "      <th>cluster</th>\n",
       "    </tr>\n",
       "  </thead>\n",
       "  <tbody>\n",
       "    <tr>\n",
       "      <th>0</th>\n",
       "      <td>0.637</td>\n",
       "      <td>0.643</td>\n",
       "      <td>-6.571</td>\n",
       "      <td>0.0519</td>\n",
       "      <td>0.13000</td>\n",
       "      <td>0.000002</td>\n",
       "      <td>0.1420</td>\n",
       "      <td>0.533</td>\n",
       "      <td>97.008</td>\n",
       "      <td>0V3wPSX9ygBnCm8psDIegu</td>\n",
       "      <td>200690</td>\n",
       "      <td>0</td>\n",
       "    </tr>\n",
       "    <tr>\n",
       "      <th>1</th>\n",
       "      <td>0.714</td>\n",
       "      <td>0.472</td>\n",
       "      <td>-7.375</td>\n",
       "      <td>0.0864</td>\n",
       "      <td>0.01300</td>\n",
       "      <td>0.000005</td>\n",
       "      <td>0.2660</td>\n",
       "      <td>0.238</td>\n",
       "      <td>131.121</td>\n",
       "      <td>3nqQXoyQOWXiESFLlDF1hG</td>\n",
       "      <td>156943</td>\n",
       "      <td>3</td>\n",
       "    </tr>\n",
       "    <tr>\n",
       "      <th>2</th>\n",
       "      <td>0.780</td>\n",
       "      <td>0.689</td>\n",
       "      <td>-5.668</td>\n",
       "      <td>0.1410</td>\n",
       "      <td>0.03680</td>\n",
       "      <td>0.000010</td>\n",
       "      <td>0.0698</td>\n",
       "      <td>0.642</td>\n",
       "      <td>115.042</td>\n",
       "      <td>1xzi1Jcr7mEi9K2RfzLOqS</td>\n",
       "      <td>225389</td>\n",
       "      <td>0</td>\n",
       "    </tr>\n",
       "    <tr>\n",
       "      <th>3</th>\n",
       "      <td>0.520</td>\n",
       "      <td>0.731</td>\n",
       "      <td>-5.338</td>\n",
       "      <td>0.0557</td>\n",
       "      <td>0.34200</td>\n",
       "      <td>0.001010</td>\n",
       "      <td>0.3110</td>\n",
       "      <td>0.662</td>\n",
       "      <td>173.930</td>\n",
       "      <td>4LRPiXqCikLlN15c3yImP7</td>\n",
       "      <td>167303</td>\n",
       "      <td>6</td>\n",
       "    </tr>\n",
       "    <tr>\n",
       "      <th>4</th>\n",
       "      <td>0.801</td>\n",
       "      <td>0.806</td>\n",
       "      <td>-5.206</td>\n",
       "      <td>0.0381</td>\n",
       "      <td>0.38200</td>\n",
       "      <td>0.000669</td>\n",
       "      <td>0.1140</td>\n",
       "      <td>0.802</td>\n",
       "      <td>106.999</td>\n",
       "      <td>0WtM2NBVQNNJLh6scP13H8</td>\n",
       "      <td>239318</td>\n",
       "      <td>0</td>\n",
       "    </tr>\n",
       "    <tr>\n",
       "      <th>...</th>\n",
       "      <td>...</td>\n",
       "      <td>...</td>\n",
       "      <td>...</td>\n",
       "      <td>...</td>\n",
       "      <td>...</td>\n",
       "      <td>...</td>\n",
       "      <td>...</td>\n",
       "      <td>...</td>\n",
       "      <td>...</td>\n",
       "      <td>...</td>\n",
       "      <td>...</td>\n",
       "      <td>...</td>\n",
       "    </tr>\n",
       "    <tr>\n",
       "      <th>4714</th>\n",
       "      <td>0.714</td>\n",
       "      <td>0.937</td>\n",
       "      <td>-2.947</td>\n",
       "      <td>0.0399</td>\n",
       "      <td>0.20600</td>\n",
       "      <td>0.000000</td>\n",
       "      <td>0.0731</td>\n",
       "      <td>0.964</td>\n",
       "      <td>124.130</td>\n",
       "      <td>5EOoMWIB9iK4ZpcSex9Ec7</td>\n",
       "      <td>194147</td>\n",
       "      <td>0</td>\n",
       "    </tr>\n",
       "    <tr>\n",
       "      <th>4715</th>\n",
       "      <td>0.616</td>\n",
       "      <td>0.868</td>\n",
       "      <td>-3.606</td>\n",
       "      <td>0.0699</td>\n",
       "      <td>0.00131</td>\n",
       "      <td>0.000002</td>\n",
       "      <td>0.6710</td>\n",
       "      <td>0.475</td>\n",
       "      <td>108.016</td>\n",
       "      <td>3Te8uLyit6X3ncNW8Fp3K2</td>\n",
       "      <td>189387</td>\n",
       "      <td>5</td>\n",
       "    </tr>\n",
       "    <tr>\n",
       "      <th>4716</th>\n",
       "      <td>0.640</td>\n",
       "      <td>0.864</td>\n",
       "      <td>-6.576</td>\n",
       "      <td>0.0314</td>\n",
       "      <td>0.00832</td>\n",
       "      <td>0.000000</td>\n",
       "      <td>0.1230</td>\n",
       "      <td>0.701</td>\n",
       "      <td>102.026</td>\n",
       "      <td>42et6fnHCw1HIPSrdPprMl</td>\n",
       "      <td>268360</td>\n",
       "      <td>0</td>\n",
       "    </tr>\n",
       "    <tr>\n",
       "      <th>4717</th>\n",
       "      <td>0.324</td>\n",
       "      <td>0.938</td>\n",
       "      <td>-7.332</td>\n",
       "      <td>0.1020</td>\n",
       "      <td>0.03200</td>\n",
       "      <td>0.032100</td>\n",
       "      <td>0.0961</td>\n",
       "      <td>0.543</td>\n",
       "      <td>168.131</td>\n",
       "      <td>0Puj4YlTm6xNzDDADXHMI9</td>\n",
       "      <td>178440</td>\n",
       "      <td>0</td>\n",
       "    </tr>\n",
       "    <tr>\n",
       "      <th>4718</th>\n",
       "      <td>0.559</td>\n",
       "      <td>0.868</td>\n",
       "      <td>-5.276</td>\n",
       "      <td>0.1700</td>\n",
       "      <td>0.04750</td>\n",
       "      <td>0.000176</td>\n",
       "      <td>0.7760</td>\n",
       "      <td>0.609</td>\n",
       "      <td>156.295</td>\n",
       "      <td>5T8EDUDqKcs6OSOwEsfqG7</td>\n",
       "      <td>209413</td>\n",
       "      <td>5</td>\n",
       "    </tr>\n",
       "  </tbody>\n",
       "</table>\n",
       "<p>4719 rows × 12 columns</p>\n",
       "</div>"
      ],
      "text/plain": [
       "      danceability  energy  loudness  speechiness  acousticness  \\\n",
       "0            0.637   0.643    -6.571       0.0519       0.13000   \n",
       "1            0.714   0.472    -7.375       0.0864       0.01300   \n",
       "2            0.780   0.689    -5.668       0.1410       0.03680   \n",
       "3            0.520   0.731    -5.338       0.0557       0.34200   \n",
       "4            0.801   0.806    -5.206       0.0381       0.38200   \n",
       "...            ...     ...       ...          ...           ...   \n",
       "4714         0.714   0.937    -2.947       0.0399       0.20600   \n",
       "4715         0.616   0.868    -3.606       0.0699       0.00131   \n",
       "4716         0.640   0.864    -6.576       0.0314       0.00832   \n",
       "4717         0.324   0.938    -7.332       0.1020       0.03200   \n",
       "4718         0.559   0.868    -5.276       0.1700       0.04750   \n",
       "\n",
       "      instrumentalness  liveness  valence    tempo                      id  \\\n",
       "0             0.000002    0.1420    0.533   97.008  0V3wPSX9ygBnCm8psDIegu   \n",
       "1             0.000005    0.2660    0.238  131.121  3nqQXoyQOWXiESFLlDF1hG   \n",
       "2             0.000010    0.0698    0.642  115.042  1xzi1Jcr7mEi9K2RfzLOqS   \n",
       "3             0.001010    0.3110    0.662  173.930  4LRPiXqCikLlN15c3yImP7   \n",
       "4             0.000669    0.1140    0.802  106.999  0WtM2NBVQNNJLh6scP13H8   \n",
       "...                ...       ...      ...      ...                     ...   \n",
       "4714          0.000000    0.0731    0.964  124.130  5EOoMWIB9iK4ZpcSex9Ec7   \n",
       "4715          0.000002    0.6710    0.475  108.016  3Te8uLyit6X3ncNW8Fp3K2   \n",
       "4716          0.000000    0.1230    0.701  102.026  42et6fnHCw1HIPSrdPprMl   \n",
       "4717          0.032100    0.0961    0.543  168.131  0Puj4YlTm6xNzDDADXHMI9   \n",
       "4718          0.000176    0.7760    0.609  156.295  5T8EDUDqKcs6OSOwEsfqG7   \n",
       "\n",
       "      duration_ms  cluster  \n",
       "0          200690        0  \n",
       "1          156943        3  \n",
       "2          225389        0  \n",
       "3          167303        6  \n",
       "4          239318        0  \n",
       "...           ...      ...  \n",
       "4714       194147        0  \n",
       "4715       189387        5  \n",
       "4716       268360        0  \n",
       "4717       178440        0  \n",
       "4718       209413        5  \n",
       "\n",
       "[4719 rows x 12 columns]"
      ]
     },
     "execution_count": 8,
     "metadata": {},
     "output_type": "execute_result"
    }
   ],
   "source": [
    "df_labeled = df\n",
    "df_labeled[\"cluster\"] = labels\n",
    "df_labeled"
   ]
  },
  {
   "cell_type": "markdown",
   "id": "c963d60a",
   "metadata": {},
   "source": [
    "### Chosing k"
   ]
  },
  {
   "cell_type": "markdown",
   "id": "0e392304",
   "metadata": {},
   "source": [
    "#### Elbow method"
   ]
  },
  {
   "cell_type": "code",
   "execution_count": 9,
   "id": "20c3e11a",
   "metadata": {
    "scrolled": true
   },
   "outputs": [
    {
     "data": {
      "text/plain": [
       "Text(0.5, 1.0, 'Elbow Method showing the optimal k')"
      ]
     },
     "execution_count": 9,
     "metadata": {},
     "output_type": "execute_result"
    },
    {
     "data": {
      "image/png": "[encoded data removed]",
      "text/plain": [
       "<Figure size 800x300 with 1 Axes>"
      ]
     },
     "metadata": {},
     "output_type": "display_data"
    }
   ],
   "source": [
    "import matplotlib.pyplot as plt\n",
    "\n",
    "K = range(2, 21)\n",
    "inertia = []\n",
    "\n",
    "for k in K:\n",
    "    kmeans = KMeans(n_clusters=k,\n",
    "                    random_state=1234)\n",
    "    kmeans.fit(audio_features_scaled)\n",
    "    inertia.append(kmeans.inertia_)\n",
    "\n",
    "plt.figure(figsize=(8,3))\n",
    "plt.plot(K, inertia, 'bx-')\n",
    "plt.xlabel('k')\n",
    "plt.ylabel('inertia')\n",
    "plt.xticks(np.arange(min(K), max(K)+1, 1.0))\n",
    "plt.title('Elbow Method showing the optimal k')"
   ]
  },
  {
   "cell_type": "markdown",
   "id": "81999969",
   "metadata": {},
   "source": [
    "#### Silhouette Score"
   ]
  },
  {
   "cell_type": "code",
   "execution_count": 10,
   "id": "eb91427e",
   "metadata": {
    "scrolled": true
   },
   "outputs": [
    {
     "data": {
      "text/plain": [
       "Text(0.5, 1.0, 'Silhouette Method showing the optimal k')"
      ]
     },
     "execution_count": 10,
     "metadata": {},
     "output_type": "execute_result"
    },
    {
     "data": {
      "image/png": "[encoded data removed]",
      "text/plain": [
       "<Figure size 700x300 with 1 Axes>"
      ]
     },
     "metadata": {},
     "output_type": "display_data"
    }
   ],
   "source": [
    "K = range(2, 20)\n",
    "silhouette = []\n",
    "\n",
    "for k in K:\n",
    "    kmeans = KMeans(n_clusters=k,\n",
    "                    random_state=1234)\n",
    "    kmeans.fit(audio_features_scaled)\n",
    "    \n",
    "    filename = \"model/kmeans_\" + str(k) + \".pickle\"\n",
    "    with open(filename, \"wb\") as f:\n",
    "        pickle.dump(kmeans,f)\n",
    "    \n",
    "    silhouette.append(silhouette_score(audio_features_scaled, kmeans.predict(audio_features_scaled)))\n",
    "\n",
    "\n",
    "plt.figure(figsize=(7,3))\n",
    "plt.plot(K, silhouette, 'bx-')\n",
    "plt.xlabel('k')\n",
    "plt.ylabel('silhouette score')\n",
    "plt.xticks(np.arange(min(K), max(K)+1, 1.0))\n",
    "plt.title('Silhouette Method showing the optimal k')"
   ]
  },
  {
   "cell_type": "markdown",
   "id": "08771fde",
   "metadata": {},
   "source": [
    "### Song Recommender"
   ]
  },
  {
   "cell_type": "code",
   "execution_count": 11,
   "id": "d8590a27",
   "metadata": {},
   "outputs": [],
   "source": [
    "def song_input():\n",
    "    song_input = input(\"Choose a song, please: \")\n",
    "    return song_input\n",
    "\n",
    "def get_song_id():\n",
    "    user_song_name =  song_input()\n",
    "    user_song = sp.search(q=user_song_name,limit=10, market=\"DE\")\n",
    "    user_song_id = user_song[\"tracks\"][\"items\"][0][\"id\"]\n",
    "    return user_song_id"
   ]
  },
  {
   "cell_type": "code",
   "execution_count": 16,
   "id": "5c7ce253",
   "metadata": {},
   "outputs": [
    {
     "name": "stdout",
     "output_type": "stream",
     "text": [
      "Choose a song, please: air I breathe\n"
     ]
    },
    {
     "data": {
      "text/html": [
       "\n",
       "        <iframe\n",
       "            width=\"320\"\n",
       "            height=\"80\"\n",
       "            src=\"https://open.spotify.com/embed/track/0B6pOWMK4fV4YYtbe7cpHg?frameborder=0&allowtransparency=true&allow=encrypted-media\"\n",
       "            frameborder=\"0\"\n",
       "            allowfullscreen\n",
       "            \n",
       "        ></iframe>\n",
       "        "
      ],
      "text/plain": [
       "<IPython.lib.display.IFrame at 0x7fc3144e7370>"
      ]
     },
     "execution_count": 16,
     "metadata": {},
     "output_type": "execute_result"
    }
   ],
   "source": [
    "song = get_song_id()\n",
    "afs = sp.audio_features(song)\n",
    "afs = pd.DataFrame(afs)\n",
    "afs = afs[['energy','instrumentalness','liveness']]\n",
    "play_song(song)"
   ]
  },
  {
   "cell_type": "code",
   "execution_count": 17,
   "id": "b058167d",
   "metadata": {},
   "outputs": [
    {
     "name": "stdout",
     "output_type": "stream",
     "text": [
      "     energy  instrumentalness  liveness\n",
      "0  0.987368           -0.8488 -0.064416\n",
      "-----------------------------------------\n",
      "0    1433\n",
      "1     791\n",
      "2     233\n",
      "3     742\n",
      "4     733\n",
      "5     170\n",
      "6     617\n",
      "dtype: int64\n",
      "-------------------------------\n",
      "The song belongs to cluster 0\n",
      "Another song we recommend based on your choice is...\n"
     ]
    },
    {
     "data": {
      "text/html": [
       "\n",
       "        <iframe\n",
       "            width=\"320\"\n",
       "            height=\"80\"\n",
       "            src=\"https://open.spotify.com/embed/track/7AODNxFNPnKaz4hURLzw5l?frameborder=0&allowtransparency=true&allow=encrypted-media\"\n",
       "            frameborder=\"0\"\n",
       "            allowfullscreen\n",
       "            \n",
       "        ></iframe>\n",
       "        "
      ],
      "text/plain": [
       "<IPython.lib.display.IFrame at 0x7fc3144d6a60>"
      ]
     },
     "execution_count": 17,
     "metadata": {},
     "output_type": "execute_result"
    }
   ],
   "source": [
    "user_input_transformed = scaler.transform(afs)\n",
    "user_input_transformed_df = pd.DataFrame(user_input_transformed, columns = ['energy','instrumentalness','liveness'])\n",
    "print(user_input_transformed_df)\n",
    "print(\"-----------------------------------------\")\n",
    "kmeans = KMeans(n_clusters=7, random_state=1234)\n",
    "kmeans.fit(audio_features_scaled)\n",
    "# assign a cluster to each example\n",
    "labels = kmeans.predict(audio_features_scaled)\n",
    "# retrieve unique clusters\n",
    "clusters = np.unique(labels)\n",
    "print(pd.DataFrame(labels).value_counts().sort_index())\n",
    "user_cluster = kmeans.predict(user_input_transformed_df)[0]\n",
    "print(\"-------------------------------\")\n",
    "print(\"The song belongs to cluster\",user_cluster)\n",
    "print(\"Another song we recommend based on your choice is...\")\n",
    "idx_recommended_song = rd.choice(df_labeled[df_labeled.cluster==user_cluster].index)\n",
    "id_rs = df_labeled.id[idx_recommended_song]\n",
    "play_song(id_rs)"
   ]
  }
 ],
 "metadata": {
  "kernelspec": {
   "display_name": "Python 3 (ipykernel)",
   "language": "python",
   "name": "python3"
  },
  "language_info": {
   "codemirror_mode": {
    "name": "ipython",
    "version": 3
   },
   "file_extension": ".py",
   "mimetype": "text/x-python",
   "name": "python",
   "nbconvert_exporter": "python",
   "pygments_lexer": "ipython3",
   "version": "3.9.7"
  }
 },
 "nbformat": 4,
 "nbformat_minor": 5
}
