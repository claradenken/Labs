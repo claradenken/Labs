{
 "cells": [
  {
   "cell_type": "markdown",
   "id": "b0f0e273",
   "metadata": {},
   "source": [
    "# Ironhack Data Analytics Final Project - Clara Hauke\n",
    "\n",
    "## <span style=\"color:#ac3973\"><em> Nonlinear prediction of the 2022/23 winter North Atlantic Oscillation index </em></span>\n",
    "\n",
    "### <span style=\"color:#6699ff\"> \\#knn \\#climateScience </span>\n",
    "\n",
    "## Goal of the project:\n",
    "Use selected climate variables in the Northern hemisphere to predict the evolution of the North Atlantic Oscillation (NAO) state in terms of the NAO index for winter 2022/23 with a nonlinear regression model based on k-nearest neighbors and a region selection algorithm\n",
    "\n",
    "\n",
    "## Brief description of the dataset(s):\n",
    "- Feature variables on a global grid (approx. 100 km x 100 km resolution, the regions are specified in the following list) taken from reanalysis ERA5 (https://www.ecmwf.int/en/forecasts/datasets/reanalysis-datasets/era5), spanning the time 1980 - 2021 for training the model, 2022 as \"test data\" for the prediction\n",
    "\t1. Sea surface temperature in the North Atlantic (October mean  <span style=\"color:#ac3973\">SST</span>, xxx data points)\n",
    "    2. Sea ice concentration in the Arctic (September + October mean <span style=\"color:#ac3973\">SIT</span>, xxx data points)\n",
    "    3. Snow depth in Eurasia (October mean <span style=\"color:#ac3973\">SND</span>, xxx data points)\n",
    "    4. Stratospheric temperature in 100 hPa height in Northern hemisphere (October mean <span style=\"color:#ac3973\">TA</span>, xxx data points) <br> <br>\n",
    "\n",
    "- Target variable: NAO index\n",
    "\t- one mean value for each winter (December 1st – February 28th) for 1980/81-2021/22 - 41 data points\n",
    "    - determined via Principal Component Analysis for sea surface pressure data by the same model\n",
    "\n",
    "## High-level Planning of the project, e.g:\n",
    "<br> WEEK 1</br>\n",
    "- MON / TUE - formulate goal and scope\n",
    "- WED / THU - preprocessing: read, edit, detrend, standardize, area correction, calculate correlations and p-values, ice mask for sea surface temperature, save\n",
    "- FRI - run sensitivity studies (with cross validation) and save knn predictions\n",
    "\n",
    "<br> WEEK 2</br>\n",
    "- MON - run algorithm that combines different selected regions\n",
    "- TUE - knn predictions\n",
    "- WED / THU - back up time if more time is needed\n",
    "- FRI - create presentation\n",
    "\n",
    "\n"
   ]
  },
  {
   "cell_type": "code",
   "execution_count": null,
   "id": "40a07b72",
   "metadata": {},
   "outputs": [],
   "source": []
  }
 ],
 "metadata": {
  "kernelspec": {
   "display_name": "Python 3 (ipykernel)",
   "language": "python",
   "name": "python3"
  },
  "language_info": {
   "codemirror_mode": {
    "name": "ipython",
    "version": 3
   },
   "file_extension": ".py",
   "mimetype": "text/x-python",
   "name": "python",
   "nbconvert_exporter": "python",
   "pygments_lexer": "ipython3",
   "version": "3.9.7"
  }
 },
 "nbformat": 4,
 "nbformat_minor": 5
}
